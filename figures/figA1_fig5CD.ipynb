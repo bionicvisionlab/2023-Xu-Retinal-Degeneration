{
 "cells": [
  {
   "cell_type": "code",
   "execution_count": 1,
   "metadata": {},
   "outputs": [],
   "source": [
    "import os\n",
    "import sys \n",
    "sys.path.insert(0, '/home/aiwenxu/2022-xu-retinal-degeneration')"
   ]
  },
  {
   "cell_type": "markdown",
   "metadata": {},
   "source": [
    "**Part 1: running retina simulation**"
   ]
  },
  {
   "cell_type": "code",
   "execution_count": 3,
   "metadata": {},
   "outputs": [],
   "source": [
    "import numpy as np\n",
    "from model.retinasim_phase12.simulation import stim_to_retina_output\n",
    "from model.retinasim_phase12.simulation_utils import SimulationParam\n",
    "import pickle\n",
    "from brian2 import *"
   ]
  },
  {
   "cell_type": "code",
   "execution_count": 4,
   "metadata": {},
   "outputs": [
    {
     "name": "stdout",
     "output_type": "stream",
     "text": [
      "running brian code generation ...\n",
      "building genn executable ...\n",
      "['/home/aiwenxu/genn/bin/genn-buildmodel.sh', '-i', '/home/aiwenxu/2022-xu-retinal-degeneration/figures:/home/aiwenxu/2022-xu-retinal-degeneration/figures/GeNNworkspace_1:/home/aiwenxu/2022-xu-retinal-degeneration/figures/GeNNworkspace_1/brianlib/randomkit', 'magicnetwork_model.cpp']\n",
      "executing genn binary on GPU ...\n",
      "simulation time: 169.6594579219818\n",
      "running brian code generation ...\n",
      "building genn executable ...\n",
      "['/home/aiwenxu/genn/bin/genn-buildmodel.sh', '-i', '/home/aiwenxu/2022-xu-retinal-degeneration/figures:/home/aiwenxu/2022-xu-retinal-degeneration/figures/GeNNworkspace_1:/home/aiwenxu/2022-xu-retinal-degeneration/figures/GeNNworkspace_1/brianlib/randomkit', 'magicnetwork_model.cpp']\n",
      "executing genn binary on GPU ...\n",
      "simulation time: 155.88907885551453\n",
      "running brian code generation ...\n",
      "building genn executable ...\n",
      "['/home/aiwenxu/genn/bin/genn-buildmodel.sh', '-i', '/home/aiwenxu/2022-xu-retinal-degeneration/figures:/home/aiwenxu/2022-xu-retinal-degeneration/figures/GeNNworkspace_1:/home/aiwenxu/2022-xu-retinal-degeneration/figures/GeNNworkspace_1/brianlib/randomkit', 'magicnetwork_model.cpp']\n",
      "executing genn binary on GPU ...\n",
      "simulation time: 143.0783176422119\n",
      "running brian code generation ...\n",
      "building genn executable ...\n",
      "['/home/aiwenxu/genn/bin/genn-buildmodel.sh', '-i', '/home/aiwenxu/2022-xu-retinal-degeneration/figures:/home/aiwenxu/2022-xu-retinal-degeneration/figures/GeNNworkspace_1:/home/aiwenxu/2022-xu-retinal-degeneration/figures/GeNNworkspace_1/brianlib/randomkit', 'magicnetwork_model.cpp']\n",
      "executing genn binary on GPU ...\n",
      "simulation time: 130.40198755264282\n",
      "running brian code generation ...\n",
      "building genn executable ...\n",
      "['/home/aiwenxu/genn/bin/genn-buildmodel.sh', '-i', '/home/aiwenxu/2022-xu-retinal-degeneration/figures:/home/aiwenxu/2022-xu-retinal-degeneration/figures/GeNNworkspace_1:/home/aiwenxu/2022-xu-retinal-degeneration/figures/GeNNworkspace_1/brianlib/randomkit', 'magicnetwork_model.cpp']\n",
      "executing genn binary on GPU ...\n",
      "simulation time: 116.54774141311646\n",
      "running brian code generation ...\n",
      "building genn executable ...\n",
      "['/home/aiwenxu/genn/bin/genn-buildmodel.sh', '-i', '/home/aiwenxu/2022-xu-retinal-degeneration/figures:/home/aiwenxu/2022-xu-retinal-degeneration/figures/GeNNworkspace_1:/home/aiwenxu/2022-xu-retinal-degeneration/figures/GeNNworkspace_1/brianlib/randomkit', 'magicnetwork_model.cpp']\n",
      "executing genn binary on GPU ...\n",
      "simulation time: 168.56062006950378\n",
      "running brian code generation ...\n",
      "building genn executable ...\n",
      "['/home/aiwenxu/genn/bin/genn-buildmodel.sh', '-i', '/home/aiwenxu/2022-xu-retinal-degeneration/figures:/home/aiwenxu/2022-xu-retinal-degeneration/figures/GeNNworkspace_1:/home/aiwenxu/2022-xu-retinal-degeneration/figures/GeNNworkspace_1/brianlib/randomkit', 'magicnetwork_model.cpp']\n",
      "executing genn binary on GPU ...\n",
      "simulation time: 155.67892289161682\n",
      "running brian code generation ...\n",
      "building genn executable ...\n",
      "['/home/aiwenxu/genn/bin/genn-buildmodel.sh', '-i', '/home/aiwenxu/2022-xu-retinal-degeneration/figures:/home/aiwenxu/2022-xu-retinal-degeneration/figures/GeNNworkspace_1:/home/aiwenxu/2022-xu-retinal-degeneration/figures/GeNNworkspace_1/brianlib/randomkit', 'magicnetwork_model.cpp']\n",
      "executing genn binary on GPU ...\n",
      "simulation time: 142.59368991851807\n",
      "running brian code generation ...\n",
      "building genn executable ...\n",
      "['/home/aiwenxu/genn/bin/genn-buildmodel.sh', '-i', '/home/aiwenxu/2022-xu-retinal-degeneration/figures:/home/aiwenxu/2022-xu-retinal-degeneration/figures/GeNNworkspace_1:/home/aiwenxu/2022-xu-retinal-degeneration/figures/GeNNworkspace_1/brianlib/randomkit', 'magicnetwork_model.cpp']\n",
      "executing genn binary on GPU ...\n",
      "simulation time: 129.62854719161987\n",
      "running brian code generation ...\n",
      "building genn executable ...\n",
      "['/home/aiwenxu/genn/bin/genn-buildmodel.sh', '-i', '/home/aiwenxu/2022-xu-retinal-degeneration/figures:/home/aiwenxu/2022-xu-retinal-degeneration/figures/GeNNworkspace_1:/home/aiwenxu/2022-xu-retinal-degeneration/figures/GeNNworkspace_1/brianlib/randomkit', 'magicnetwork_model.cpp']\n",
      "executing genn binary on GPU ...\n",
      "simulation time: 116.80762839317322\n",
      "running brian code generation ...\n",
      "building genn executable ...\n",
      "['/home/aiwenxu/genn/bin/genn-buildmodel.sh', '-i', '/home/aiwenxu/2022-xu-retinal-degeneration/figures:/home/aiwenxu/2022-xu-retinal-degeneration/figures/GeNNworkspace_1:/home/aiwenxu/2022-xu-retinal-degeneration/figures/GeNNworkspace_1/brianlib/randomkit', 'magicnetwork_model.cpp']\n",
      "executing genn binary on GPU ...\n",
      "simulation time: 169.43777680397034\n",
      "running brian code generation ...\n",
      "building genn executable ...\n",
      "['/home/aiwenxu/genn/bin/genn-buildmodel.sh', '-i', '/home/aiwenxu/2022-xu-retinal-degeneration/figures:/home/aiwenxu/2022-xu-retinal-degeneration/figures/GeNNworkspace_1:/home/aiwenxu/2022-xu-retinal-degeneration/figures/GeNNworkspace_1/brianlib/randomkit', 'magicnetwork_model.cpp']\n",
      "executing genn binary on GPU ...\n",
      "simulation time: 156.2814176082611\n",
      "running brian code generation ...\n",
      "building genn executable ...\n",
      "['/home/aiwenxu/genn/bin/genn-buildmodel.sh', '-i', '/home/aiwenxu/2022-xu-retinal-degeneration/figures:/home/aiwenxu/2022-xu-retinal-degeneration/figures/GeNNworkspace_1:/home/aiwenxu/2022-xu-retinal-degeneration/figures/GeNNworkspace_1/brianlib/randomkit', 'magicnetwork_model.cpp']\n",
      "executing genn binary on GPU ...\n",
      "simulation time: 143.82938361167908\n",
      "running brian code generation ...\n",
      "building genn executable ...\n",
      "['/home/aiwenxu/genn/bin/genn-buildmodel.sh', '-i', '/home/aiwenxu/2022-xu-retinal-degeneration/figures:/home/aiwenxu/2022-xu-retinal-degeneration/figures/GeNNworkspace_1:/home/aiwenxu/2022-xu-retinal-degeneration/figures/GeNNworkspace_1/brianlib/randomkit', 'magicnetwork_model.cpp']\n",
      "executing genn binary on GPU ...\n",
      "simulation time: 129.65422105789185\n",
      "running brian code generation ...\n",
      "building genn executable ...\n",
      "['/home/aiwenxu/genn/bin/genn-buildmodel.sh', '-i', '/home/aiwenxu/2022-xu-retinal-degeneration/figures:/home/aiwenxu/2022-xu-retinal-degeneration/figures/GeNNworkspace_1:/home/aiwenxu/2022-xu-retinal-degeneration/figures/GeNNworkspace_1/brianlib/randomkit', 'magicnetwork_model.cpp']\n",
      "executing genn binary on GPU ...\n",
      "simulation time: 117.07088613510132\n",
      "running brian code generation ...\n",
      "building genn executable ...\n",
      "['/home/aiwenxu/genn/bin/genn-buildmodel.sh', '-i', '/home/aiwenxu/2022-xu-retinal-degeneration/figures:/home/aiwenxu/2022-xu-retinal-degeneration/figures/GeNNworkspace_1:/home/aiwenxu/2022-xu-retinal-degeneration/figures/GeNNworkspace_1/brianlib/randomkit', 'magicnetwork_model.cpp']\n",
      "executing genn binary on GPU ...\n",
      "simulation time: 169.79776620864868\n",
      "running brian code generation ...\n",
      "building genn executable ...\n",
      "['/home/aiwenxu/genn/bin/genn-buildmodel.sh', '-i', '/home/aiwenxu/2022-xu-retinal-degeneration/figures:/home/aiwenxu/2022-xu-retinal-degeneration/figures/GeNNworkspace_1:/home/aiwenxu/2022-xu-retinal-degeneration/figures/GeNNworkspace_1/brianlib/randomkit', 'magicnetwork_model.cpp']\n",
      "executing genn binary on GPU ...\n",
      "simulation time: 156.98162007331848\n",
      "running brian code generation ...\n",
      "building genn executable ...\n",
      "['/home/aiwenxu/genn/bin/genn-buildmodel.sh', '-i', '/home/aiwenxu/2022-xu-retinal-degeneration/figures:/home/aiwenxu/2022-xu-retinal-degeneration/figures/GeNNworkspace_1:/home/aiwenxu/2022-xu-retinal-degeneration/figures/GeNNworkspace_1/brianlib/randomkit', 'magicnetwork_model.cpp']\n",
      "executing genn binary on GPU ...\n",
      "simulation time: 143.98553347587585\n",
      "running brian code generation ...\n",
      "building genn executable ...\n",
      "['/home/aiwenxu/genn/bin/genn-buildmodel.sh', '-i', '/home/aiwenxu/2022-xu-retinal-degeneration/figures:/home/aiwenxu/2022-xu-retinal-degeneration/figures/GeNNworkspace_1:/home/aiwenxu/2022-xu-retinal-degeneration/figures/GeNNworkspace_1/brianlib/randomkit', 'magicnetwork_model.cpp']\n",
      "executing genn binary on GPU ...\n",
      "simulation time: 130.28668785095215\n",
      "running brian code generation ...\n",
      "building genn executable ...\n",
      "['/home/aiwenxu/genn/bin/genn-buildmodel.sh', '-i', '/home/aiwenxu/2022-xu-retinal-degeneration/figures:/home/aiwenxu/2022-xu-retinal-degeneration/figures/GeNNworkspace_1:/home/aiwenxu/2022-xu-retinal-degeneration/figures/GeNNworkspace_1/brianlib/randomkit', 'magicnetwork_model.cpp']\n"
     ]
    },
    {
     "name": "stdout",
     "output_type": "stream",
     "text": [
      "executing genn binary on GPU ...\n",
      "simulation time: 117.36373543739319\n",
      "running brian code generation ...\n",
      "building genn executable ...\n",
      "['/home/aiwenxu/genn/bin/genn-buildmodel.sh', '-i', '/home/aiwenxu/2022-xu-retinal-degeneration/figures:/home/aiwenxu/2022-xu-retinal-degeneration/figures/GeNNworkspace_1:/home/aiwenxu/2022-xu-retinal-degeneration/figures/GeNNworkspace_1/brianlib/randomkit', 'magicnetwork_model.cpp']\n",
      "executing genn binary on GPU ...\n",
      "simulation time: 169.6372652053833\n",
      "running brian code generation ...\n",
      "building genn executable ...\n",
      "['/home/aiwenxu/genn/bin/genn-buildmodel.sh', '-i', '/home/aiwenxu/2022-xu-retinal-degeneration/figures:/home/aiwenxu/2022-xu-retinal-degeneration/figures/GeNNworkspace_1:/home/aiwenxu/2022-xu-retinal-degeneration/figures/GeNNworkspace_1/brianlib/randomkit', 'magicnetwork_model.cpp']\n",
      "executing genn binary on GPU ...\n",
      "simulation time: 156.86967945098877\n",
      "running brian code generation ...\n",
      "building genn executable ...\n",
      "['/home/aiwenxu/genn/bin/genn-buildmodel.sh', '-i', '/home/aiwenxu/2022-xu-retinal-degeneration/figures:/home/aiwenxu/2022-xu-retinal-degeneration/figures/GeNNworkspace_1:/home/aiwenxu/2022-xu-retinal-degeneration/figures/GeNNworkspace_1/brianlib/randomkit', 'magicnetwork_model.cpp']\n",
      "executing genn binary on GPU ...\n",
      "simulation time: 143.35990524291992\n",
      "running brian code generation ...\n",
      "building genn executable ...\n",
      "['/home/aiwenxu/genn/bin/genn-buildmodel.sh', '-i', '/home/aiwenxu/2022-xu-retinal-degeneration/figures:/home/aiwenxu/2022-xu-retinal-degeneration/figures/GeNNworkspace_1:/home/aiwenxu/2022-xu-retinal-degeneration/figures/GeNNworkspace_1/brianlib/randomkit', 'magicnetwork_model.cpp']\n",
      "executing genn binary on GPU ...\n",
      "simulation time: 129.45194816589355\n",
      "running brian code generation ...\n",
      "building genn executable ...\n",
      "['/home/aiwenxu/genn/bin/genn-buildmodel.sh', '-i', '/home/aiwenxu/2022-xu-retinal-degeneration/figures:/home/aiwenxu/2022-xu-retinal-degeneration/figures/GeNNworkspace_1:/home/aiwenxu/2022-xu-retinal-degeneration/figures/GeNNworkspace_1/brianlib/randomkit', 'magicnetwork_model.cpp']\n",
      "executing genn binary on GPU ...\n",
      "simulation time: 116.51994156837463\n",
      "running brian code generation ...\n",
      "building genn executable ...\n",
      "['/home/aiwenxu/genn/bin/genn-buildmodel.sh', '-i', '/home/aiwenxu/2022-xu-retinal-degeneration/figures:/home/aiwenxu/2022-xu-retinal-degeneration/figures/GeNNworkspace_1:/home/aiwenxu/2022-xu-retinal-degeneration/figures/GeNNworkspace_1/brianlib/randomkit', 'magicnetwork_model.cpp']\n",
      "executing genn binary on GPU ...\n",
      "simulation time: 168.59304308891296\n",
      "running brian code generation ...\n",
      "building genn executable ...\n",
      "['/home/aiwenxu/genn/bin/genn-buildmodel.sh', '-i', '/home/aiwenxu/2022-xu-retinal-degeneration/figures:/home/aiwenxu/2022-xu-retinal-degeneration/figures/GeNNworkspace_1:/home/aiwenxu/2022-xu-retinal-degeneration/figures/GeNNworkspace_1/brianlib/randomkit', 'magicnetwork_model.cpp']\n",
      "executing genn binary on GPU ...\n",
      "simulation time: 156.68123936653137\n",
      "running brian code generation ...\n",
      "building genn executable ...\n",
      "['/home/aiwenxu/genn/bin/genn-buildmodel.sh', '-i', '/home/aiwenxu/2022-xu-retinal-degeneration/figures:/home/aiwenxu/2022-xu-retinal-degeneration/figures/GeNNworkspace_1:/home/aiwenxu/2022-xu-retinal-degeneration/figures/GeNNworkspace_1/brianlib/randomkit', 'magicnetwork_model.cpp']\n",
      "executing genn binary on GPU ...\n",
      "simulation time: 143.6617259979248\n",
      "running brian code generation ...\n",
      "building genn executable ...\n",
      "['/home/aiwenxu/genn/bin/genn-buildmodel.sh', '-i', '/home/aiwenxu/2022-xu-retinal-degeneration/figures:/home/aiwenxu/2022-xu-retinal-degeneration/figures/GeNNworkspace_1:/home/aiwenxu/2022-xu-retinal-degeneration/figures/GeNNworkspace_1/brianlib/randomkit', 'magicnetwork_model.cpp']\n",
      "executing genn binary on GPU ...\n",
      "simulation time: 130.32622838020325\n",
      "running brian code generation ...\n",
      "building genn executable ...\n",
      "['/home/aiwenxu/genn/bin/genn-buildmodel.sh', '-i', '/home/aiwenxu/2022-xu-retinal-degeneration/figures:/home/aiwenxu/2022-xu-retinal-degeneration/figures/GeNNworkspace_1:/home/aiwenxu/2022-xu-retinal-degeneration/figures/GeNNworkspace_1/brianlib/randomkit', 'magicnetwork_model.cpp']\n",
      "executing genn binary on GPU ...\n",
      "simulation time: 116.43550300598145\n",
      "running brian code generation ...\n",
      "building genn executable ...\n",
      "['/home/aiwenxu/genn/bin/genn-buildmodel.sh', '-i', '/home/aiwenxu/2022-xu-retinal-degeneration/figures:/home/aiwenxu/2022-xu-retinal-degeneration/figures/GeNNworkspace_1:/home/aiwenxu/2022-xu-retinal-degeneration/figures/GeNNworkspace_1/brianlib/randomkit', 'magicnetwork_model.cpp']\n",
      "executing genn binary on GPU ...\n",
      "simulation time: 169.51196026802063\n",
      "running brian code generation ...\n",
      "building genn executable ...\n",
      "['/home/aiwenxu/genn/bin/genn-buildmodel.sh', '-i', '/home/aiwenxu/2022-xu-retinal-degeneration/figures:/home/aiwenxu/2022-xu-retinal-degeneration/figures/GeNNworkspace_1:/home/aiwenxu/2022-xu-retinal-degeneration/figures/GeNNworkspace_1/brianlib/randomkit', 'magicnetwork_model.cpp']\n",
      "executing genn binary on GPU ...\n",
      "simulation time: 156.99140572547913\n",
      "running brian code generation ...\n",
      "building genn executable ...\n",
      "['/home/aiwenxu/genn/bin/genn-buildmodel.sh', '-i', '/home/aiwenxu/2022-xu-retinal-degeneration/figures:/home/aiwenxu/2022-xu-retinal-degeneration/figures/GeNNworkspace_1:/home/aiwenxu/2022-xu-retinal-degeneration/figures/GeNNworkspace_1/brianlib/randomkit', 'magicnetwork_model.cpp']\n",
      "executing genn binary on GPU ...\n",
      "simulation time: 142.97763442993164\n",
      "running brian code generation ...\n",
      "building genn executable ...\n",
      "['/home/aiwenxu/genn/bin/genn-buildmodel.sh', '-i', '/home/aiwenxu/2022-xu-retinal-degeneration/figures:/home/aiwenxu/2022-xu-retinal-degeneration/figures/GeNNworkspace_1:/home/aiwenxu/2022-xu-retinal-degeneration/figures/GeNNworkspace_1/brianlib/randomkit', 'magicnetwork_model.cpp']\n",
      "executing genn binary on GPU ...\n",
      "simulation time: 130.41133284568787\n",
      "running brian code generation ...\n",
      "building genn executable ...\n",
      "['/home/aiwenxu/genn/bin/genn-buildmodel.sh', '-i', '/home/aiwenxu/2022-xu-retinal-degeneration/figures:/home/aiwenxu/2022-xu-retinal-degeneration/figures/GeNNworkspace_1:/home/aiwenxu/2022-xu-retinal-degeneration/figures/GeNNworkspace_1/brianlib/randomkit', 'magicnetwork_model.cpp']\n",
      "executing genn binary on GPU ...\n",
      "simulation time: 116.80816793441772\n"
     ]
    }
   ],
   "source": [
    "pre_computed_weights_folder = \"../model/weights_phase12\"\n",
    "\n",
    "for light_g_max in [0.9, 0.75, 0.6, 0.45, 0.3, 0.15, 0]:\n",
    "    for cone_population in [100, 80, 60, 40, 20]:\n",
    "        \n",
    "        sp_txt = \"../model/parameter/cottaris_original_2hz.txt\"\n",
    "        sp = SimulationParam(sp_txt)\n",
    "        \n",
    "        sp.xy_coord_folder = \"../model/layout_phase12/dendritic-tree-coordinate-{}\".format(cone_population)\n",
    "        sp.z_coord_folder = \"../model/layout_phase12/z-coordinate-{}\".format(cone_population)\n",
    "        \n",
    "        cr_coordinates = np.load(\"{}/CR.npy\".format(sp.xy_coord_folder))\n",
    "        NUM_CR = cr_coordinates.shape[1]\n",
    "\n",
    "        l_b = 0.5\n",
    "        l = [1, 0.75, 0.5, 0.25, 0]\n",
    "\n",
    "        square_waves = []\n",
    "\n",
    "        for i in range(5):\n",
    "            part = np.ones((NUM_CR)) * l[i]\n",
    "            part = np.tile(part, (200,1))\n",
    "            square_waves.append(part)\n",
    "            if i != 4:\n",
    "                square_waves.append(np.tile(np.ones((NUM_CR)) * l_b, (100, 1)))\n",
    "        stim = TimedArray(np.concatenate(square_waves, axis=0), dt=1*ms)\n",
    "        \n",
    "        time_in_ms = stim.values.shape[0]\n",
    "        select_GPU = 1\n",
    "        genn_directory = \"GeNNworkspace_{}\".format(select_GPU)\n",
    "        _, _, _, _, _, _, _, _, _, spikes_gl_on, spikes_gl_off = stim_to_retina_output(time_in_ms, sp, light_g_max, pre_computed_weights_folder, lstim=stim, select_GPU=select_GPU, genn_directory=genn_directory, dt=0.1)\n",
    "        \n",
    "        data_folder = \"../data/fig6/data-{}-{}\".format(light_g_max, cone_population)\n",
    "        if not os.path.exists(data_folder):\n",
    "            os.makedirs(data_folder)\n",
    "            \n",
    "        with open('{}/spikes_gl_on.pickle'.format(data_folder), 'wb') as f:\n",
    "            pickle.dump(spikes_gl_on, f)\n",
    "\n",
    "        with open('{}/spikes_gl_off.pickle'.format(data_folder), 'wb') as f:\n",
    "            pickle.dump(spikes_gl_off, f)"
   ]
  },
  {
   "cell_type": "code",
   "execution_count": null,
   "metadata": {},
   "outputs": [
    {
     "name": "stdout",
     "output_type": "stream",
     "text": [
      "running brian code generation ...\n",
      "building genn executable ...\n",
      "['/home/aiwenxu/genn/bin/genn-buildmodel.sh', '-i', '/home/aiwenxu/2022-xu-retinal-degeneration/figures:/home/aiwenxu/2022-xu-retinal-degeneration/figures/GeNNworkspace_1:/home/aiwenxu/2022-xu-retinal-degeneration/figures/GeNNworkspace_1/brianlib/randomkit', 'magicnetwork_model.cpp']\n",
      "executing genn binary on GPU ...\n",
      "simulation time: 88.31562423706055\n",
      "running brian code generation ...\n",
      "building genn executable ...\n",
      "['/home/aiwenxu/genn/bin/genn-buildmodel.sh', '-i', '/home/aiwenxu/2022-xu-retinal-degeneration/figures:/home/aiwenxu/2022-xu-retinal-degeneration/figures/GeNNworkspace_1:/home/aiwenxu/2022-xu-retinal-degeneration/figures/GeNNworkspace_1/brianlib/randomkit', 'magicnetwork_model.cpp']\n",
      "executing genn binary on GPU ...\n",
      "simulation time: 89.10431790351868\n",
      "running brian code generation ...\n",
      "building genn executable ...\n",
      "['/home/aiwenxu/genn/bin/genn-buildmodel.sh', '-i', '/home/aiwenxu/2022-xu-retinal-degeneration/figures:/home/aiwenxu/2022-xu-retinal-degeneration/figures/GeNNworkspace_1:/home/aiwenxu/2022-xu-retinal-degeneration/figures/GeNNworkspace_1/brianlib/randomkit', 'magicnetwork_model.cpp']\n"
     ]
    }
   ],
   "source": [
    "# special case: cone population 0%\n",
    "\n",
    "cone_population = 0\n",
    "for light_g_max in [0.9, 0.75, 0.6, 0.45, 0.3, 0.15, 0]:\n",
    "        \n",
    "    sp_txt = \"../model/parameter/cottaris_original_2hz.txt\"\n",
    "    sp = SimulationParam(sp_txt)\n",
    "\n",
    "    sp.xy_coord_folder = \"../model/layout_phase12/dendritic-tree-coordinate-{}\".format(100)\n",
    "    sp.z_coord_folder = \"../model/layout_phase12/z-coordinate-{}\".format(100)\n",
    "    sp.cone_exists = False\n",
    "\n",
    "    NUM_CR = 1\n",
    "\n",
    "    l_b = 0.5\n",
    "    l = [1, 0.75, 0.5, 0.25, 0]\n",
    "\n",
    "    square_waves = []\n",
    "\n",
    "    for i in range(5):\n",
    "        part = np.ones((NUM_CR)) * l[i]\n",
    "        part = np.tile(part, (200,1))\n",
    "        square_waves.append(part)\n",
    "        if i != 4:\n",
    "            square_waves.append(np.tile(np.ones((NUM_CR)) * l_b, (100, 1)))\n",
    "    stim = TimedArray(np.concatenate(square_waves, axis=0), dt=1*ms)\n",
    "\n",
    "    time_in_ms = stim.values.shape[0]\n",
    "    select_GPU = 1\n",
    "    genn_directory = \"GeNNworkspace_{}\".format(select_GPU)\n",
    "    _, _, _, _, _, _, _, _, _, spikes_gl_on, spikes_gl_off = stim_to_retina_output(time_in_ms, sp, light_g_max, pre_computed_weights_folder, lstim=stim, select_GPU=select_GPU, genn_directory=genn_directory, dt=0.1)\n",
    "\n",
    "    data_folder = \"../data/fig6/data-{}-{}\".format(light_g_max, cone_population)\n",
    "    if not os.path.exists(data_folder):\n",
    "        os.makedirs(data_folder)\n",
    "\n",
    "    with open('{}/spikes_gl_on.pickle'.format(data_folder), 'wb') as f:\n",
    "        pickle.dump(spikes_gl_on, f)\n",
    "\n",
    "    with open('{}/spikes_gl_off.pickle'.format(data_folder), 'wb') as f:\n",
    "        pickle.dump(spikes_gl_off, f)"
   ]
  },
  {
   "cell_type": "markdown",
   "metadata": {},
   "source": [
    "**Part 2: calculate firing rate**"
   ]
  },
  {
   "cell_type": "code",
   "execution_count": 6,
   "metadata": {},
   "outputs": [],
   "source": [
    "def cal_firing_rate(path_to_spikes):\n",
    "    \n",
    "    with open(path_to_spikes, 'rb') as f:\n",
    "        spikes = pickle.load(f)\n",
    "    \n",
    "    data = np.zeros((len(spikes['t'].keys()), 5))\n",
    "    time_start = np.array([0, 300, 600, 900, 1200]) + 100\n",
    "    time_end = time_start + 100\n",
    "    for idx in spikes['t']:\n",
    "        sp = spikes['t'][idx]\n",
    "        for j in range(5):\n",
    "            data[idx][j] += sp[(sp > time_start[j]*ms) & (sp < time_end[j]*ms)].shape[0]/(100*ms)\n",
    "    return data"
   ]
  },
  {
   "cell_type": "code",
   "execution_count": 8,
   "metadata": {},
   "outputs": [],
   "source": [
    "def save_firing_rate(cell_type):\n",
    "    fr_dict = {}\n",
    "    for light_g in [0.9, 0.75, 0.6, 0.45, 0.3, 0.15, 0]:\n",
    "        for cone_percent in [0, 20, 40, 60, 80, 100]:\n",
    "            fr_dict[\"{}_{}\".format(light_g, cone_percent)] = cal_firing_rate(\"../data/fig6/data-{}-{}/spikes_gl_{}.pickle\".format(light_g, cone_percent, cell_type))\n",
    "    with open(\"../data/fig6/{}_rgc_fr.pickle\".format(cell_type), 'wb') as f:\n",
    "        pickle.dump(fr_dict, f)"
   ]
  },
  {
   "cell_type": "code",
   "execution_count": 9,
   "metadata": {},
   "outputs": [],
   "source": [
    "save_firing_rate(\"on\")"
   ]
  },
  {
   "cell_type": "code",
   "execution_count": 10,
   "metadata": {},
   "outputs": [],
   "source": [
    "save_firing_rate(\"off\")"
   ]
  },
  {
   "cell_type": "markdown",
   "metadata": {},
   "source": [
    "**Part 3: plotting**"
   ]
  },
  {
   "cell_type": "code",
   "execution_count": 4,
   "metadata": {},
   "outputs": [],
   "source": [
    "with open(\"../data/fig6/on_rgc_fr.pickle\", 'rb') as f:\n",
    "    on_fr = pickle.load(f)\n",
    "with open(\"../data/fig6/off_rgc_fr.pickle\", 'rb') as f:\n",
    "    off_fr = pickle.load(f)"
   ]
  },
  {
   "cell_type": "code",
   "execution_count": 27,
   "metadata": {},
   "outputs": [],
   "source": [
    "def get_heatmap(fr_dict):\n",
    "    heatmap = []\n",
    "    for i in range(4, -1, -1):\n",
    "        current = np.zeros((7, 6))\n",
    "        for (j, light_g) in enumerate(reversed([0, 0.15, 0.3, 0.45, 0.6, 0.75, 0.9])):\n",
    "            for (k, cone_percent) in enumerate(reversed([0, 20, 40, 60, 80, 100])):\n",
    "                key = \"{}_{}\".format(light_g, cone_percent)\n",
    "                current[j][k] = np.mean(fr_dict[key], axis=0)[i]\n",
    "        heatmap.append(current)\n",
    "    return heatmap"
   ]
  },
  {
   "cell_type": "code",
   "execution_count": 28,
   "metadata": {},
   "outputs": [],
   "source": [
    "on_off_heatmap = [get_heatmap(on_fr), get_heatmap(off_fr)]"
   ]
  },
  {
   "cell_type": "code",
   "execution_count": 29,
   "metadata": {},
   "outputs": [
    {
     "data": {
      "image/png": "[encoded data removed]",
      "text/plain": [
       "<Figure size 1512x432 with 11 Axes>"
      ]
     },
     "metadata": {
      "needs_background": "light"
     },
     "output_type": "display_data"
    }
   ],
   "source": [
    "fig, axs = plt.subplots(2, 5, figsize=(21,6))\n",
    "fig.text(0.5, 0, 'Cone population (%)', ha='center', fontsize=20)\n",
    "fig.text(0.08, 0.5, 'Light-cone conduction $g_{\\max}$ (nS)', va='center', rotation='vertical', fontsize=20)\n",
    "light_intensity = [0, 0.25, 0.5, 0.75, 1]\n",
    "for i in range(2):\n",
    "    for j in range(5):\n",
    "        im = axs[i][j].imshow(on_off_heatmap[i][j], cmap=\"pink\", vmin=0, vmax=60, origin=\"lower\")\n",
    "        if i == 0:\n",
    "            axs[i][j].set_xticks([])\n",
    "        else:\n",
    "            axs[i][j].set_xticks([0, 1, 2, 3, 4, 5])\n",
    "            axs[i][j].set_xticklabels(reversed([0, 20, 40, 60, 80, 100]), fontsize=10)\n",
    "        if j != 0:\n",
    "            axs[i][j].set_yticks([])\n",
    "        else:\n",
    "            axs[i][j].set_yticks([0, 1, 2, 3, 4, 5, 6])\n",
    "            axs[i][j].set_yticklabels(reversed([0.00, 0.15, 0.30, 0.45, 0.60, 0.75, 0.90]), fontsize=10)\n",
    "        if i == 0:\n",
    "            axs[i][j].set_xlabel(\"Light intensity {} (a.u.)\".format(light_intensity[j]), fontsize=15)\n",
    "            axs[i][j].xaxis.set_label_coords(0.5,1.2)\n",
    "axs[0][4].set_ylabel(\"ON RGCs\", rotation=270, fontsize=15)\n",
    "axs[0][4].yaxis.set_label_coords(1.1,0.5)\n",
    "axs[1][4].set_ylabel(\"OFF RGCs\", rotation=270, fontsize=15)\n",
    "axs[1][4].yaxis.set_label_coords(1.1,0.5)\n",
    "fig.subplots_adjust(right=0.8)\n",
    "cbar_ax = fig.add_axes([0.82, 0.15, 0.03, 0.7])\n",
    "cbar = fig.colorbar(im, cax=cbar_ax)\n",
    "cbar_ax.set_ylabel('Firing rate (Hz)', rotation=270, labelpad=18, fontsize=15)\n",
    "_ = cbar_ax.set_yticklabels([0, 10, 20, 30, 40, 50, 60, 70, 80], fontsize=15)"
   ]
  },
  {
   "cell_type": "code",
   "execution_count": 5,
   "metadata": {},
   "outputs": [],
   "source": [
    "def get_on_spon_rate(on_fr_dict, cone_percent):\n",
    "    on_fr_mean = []\n",
    "    on_fr_std = []\n",
    "    for g_max in reversed([0, 0.15, 0.3, 0.45, 0.6, 0.75, 0.9]):\n",
    "        key = \"{}_{}\".format(g_max, cone_percent)\n",
    "        rate = on_fr_dict[key][:, 2]\n",
    "        on_fr_mean.append(np.mean(rate))\n",
    "        on_fr_std.append(np.std(rate))\n",
    "    return np.array(on_fr_mean), np.array(on_fr_std)"
   ]
  },
  {
   "cell_type": "code",
   "execution_count": 6,
   "metadata": {},
   "outputs": [],
   "source": [
    "on_fr_mean, on_fr_std = get_on_spon_rate(on_fr, 100)"
   ]
  },
  {
   "cell_type": "code",
   "execution_count": 7,
   "metadata": {},
   "outputs": [
    {
     "data": {
      "text/plain": [
       "Text(0.5, 1.0, 'ON RGCs, cone population = 100%')"
      ]
     },
     "execution_count": 7,
     "metadata": {},
     "output_type": "execute_result"
    },
    {
     "data": {
      "image/png": "[encoded data removed]",
      "text/plain": [
       "<Figure size 360x216 with 1 Axes>"
      ]
     },
     "metadata": {
      "needs_background": "light"
     },
     "output_type": "display_data"
    }
   ],
   "source": [
    "fig, ax = plt.subplots(1,1, figsize=(5,3))\n",
    "\n",
    "labels = list(reversed([\"0\", \"0.15\", \"0.3\", \"0.45\", \"0.6\", \"0.75\", \"0.9\"]))\n",
    "\n",
    "ax.bar(labels, on_fr_mean, yerr=on_fr_std)\n",
    "ax.set_ylim((0,100))\n",
    "ax.set_ylabel(\"firing rate (Hz)\", fontsize=10)\n",
    "ax.set_xlabel(\"$g_{\\max}$ (nS)\")\n",
    "ax.set_title(\"ON RGCs, cone population = 100%\", fontsize=10)"
   ]
  },
  {
   "cell_type": "code",
   "execution_count": 35,
   "metadata": {},
   "outputs": [],
   "source": [
    "on_fr_mean, on_fr_std = get_on_spon_rate(on_fr, 60)"
   ]
  },
  {
   "cell_type": "code",
   "execution_count": 36,
   "metadata": {},
   "outputs": [
    {
     "data": {
      "text/plain": [
       "Text(0.5, 1.0, 'ON RGCs, cone population = 60%')"
      ]
     },
     "execution_count": 36,
     "metadata": {},
     "output_type": "execute_result"
    },
    {
     "data": {
      "image/png": "[encoded data removed]",
      "text/plain": [
       "<Figure size 360x216 with 1 Axes>"
      ]
     },
     "metadata": {
      "needs_background": "light"
     },
     "output_type": "display_data"
    }
   ],
   "source": [
    "fig, ax = plt.subplots(1,1, figsize=(5,3))\n",
    "\n",
    "labels = list(reversed([\"0\", \"0.15\", \"0.3\", \"0.45\", \"0.6\", \"0.75\", \"0.9\"]))\n",
    "\n",
    "ax.bar(labels, on_fr_mean, yerr=on_fr_std)\n",
    "ax.set_ylim((0,100))\n",
    "ax.set_ylabel(\"firing rate (Hz)\", fontsize=10)\n",
    "ax.set_xlabel(\"$g_{\\max}$ (nS)\")\n",
    "ax.set_title(\"ON RGCs, cone population = 60%\", fontsize=10)"
   ]
  },
  {
   "cell_type": "code",
   "execution_count": 15,
   "metadata": {},
   "outputs": [],
   "source": [
    "def get_off_spon_rate(off_fr_dict, g_max):\n",
    "    off_fr_mean = []\n",
    "    off_fr_std = []\n",
    "    for cone_percent in reversed([0, 20, 40, 60, 80, 100]):\n",
    "        key = \"{}_{}\".format(g_max, cone_percent)\n",
    "        rate = off_fr_dict[key][:, 2]\n",
    "        off_fr_mean.append(np.mean(rate))\n",
    "        off_fr_std.append(np.std(rate))\n",
    "    return np.array(off_fr_mean), np.array(off_fr_std)"
   ]
  },
  {
   "cell_type": "code",
   "execution_count": 17,
   "metadata": {},
   "outputs": [],
   "source": [
    "off_fr_mean, off_fr_std = get_off_spon_rate(off_fr, 0.9)"
   ]
  },
  {
   "cell_type": "code",
   "execution_count": 39,
   "metadata": {},
   "outputs": [
    {
     "data": {
      "text/plain": [
       "Text(0.5, 1.0, 'OFF RGCs, $g_{\\\\max}$ = 0.9 nS')"
      ]
     },
     "execution_count": 39,
     "metadata": {},
     "output_type": "execute_result"
    },
    {
     "data": {
      "image/png": "[encoded data removed]",
      "text/plain": [
       "<Figure size 360x216 with 1 Axes>"
      ]
     },
     "metadata": {
      "needs_background": "light"
     },
     "output_type": "display_data"
    }
   ],
   "source": [
    "fig, ax = plt.subplots(1,1, figsize=(5,3))\n",
    "\n",
    "labels = list(reversed([\"0\", \"20\", \"40\", \"60\", \"80\", \"100\"]))\n",
    "\n",
    "ax.bar(labels, off_fr_mean, yerr=off_fr_std)\n",
    "ax.set_ylim((0,30))\n",
    "ax.set_ylabel(\"firing rate (Hz)\", fontsize=10)\n",
    "ax.set_xlabel(\"cone population (%)\")\n",
    "ax.set_title(\"OFF RGCs, $g_{\\max}$ = 0.9 nS\", fontsize=10)"
   ]
  },
  {
   "cell_type": "code",
   "execution_count": 40,
   "metadata": {},
   "outputs": [],
   "source": [
    "off_fr_mean, off_fr_std = get_off_spon_rate(off_fr, 0.45)"
   ]
  },
  {
   "cell_type": "code",
   "execution_count": 41,
   "metadata": {},
   "outputs": [
    {
     "data": {
      "text/plain": [
       "Text(0.5, 1.0, 'OFF RGCs, $g_{\\\\max}$ = 0.45 nS')"
      ]
     },
     "execution_count": 41,
     "metadata": {},
     "output_type": "execute_result"
    },
    {
     "data": {
      "image/png": "[encoded data removed]",
      "text/plain": [
       "<Figure size 360x216 with 1 Axes>"
      ]
     },
     "metadata": {
      "needs_background": "light"
     },
     "output_type": "display_data"
    }
   ],
   "source": [
    "fig, ax = plt.subplots(1,1, figsize=(5,3))\n",
    "\n",
    "labels = list(reversed([\"0\", \"20\", \"40\", \"60\", \"80\", \"100\"]))\n",
    "\n",
    "ax.bar(labels, off_fr_mean, yerr=off_fr_std)\n",
    "ax.set_ylim((0,30))\n",
    "ax.set_ylabel(\"firing rate (Hz)\", fontsize=10)\n",
    "ax.set_xlabel(\"cone population (%)\")\n",
    "ax.set_title(\"OFF RGCs, $g_{\\max}$ = 0.45 nS\", fontsize=10)"
   ]
  },
  {
   "cell_type": "code",
   "execution_count": 40,
   "metadata": {},
   "outputs": [],
   "source": [
    "def get_spon_rate_fix_cone_percent(fr_dict, cone_percent):\n",
    "    fr_mean = []\n",
    "    fr_std = []\n",
    "    for g_max in reversed([0, 0.15, 0.3, 0.45, 0.6, 0.75, 0.9]):\n",
    "        key = \"{}_{}\".format(g_max, cone_percent)\n",
    "        rate = fr_dict[key][:, 2]\n",
    "        fr_mean.append(np.mean(rate))\n",
    "        fr_std.append(np.std(rate))\n",
    "    return np.array(fr_mean), np.array(fr_std)\n",
    "on_fr_mean, on_fr_std = get_spon_rate_fix_cone_percent(on_fr, 100)\n",
    "off_fr_mean, off_fr_std = get_spon_rate_fix_cone_percent(off_fr, 100)"
   ]
  },
  {
   "cell_type": "code",
   "execution_count": 41,
   "metadata": {},
   "outputs": [
    {
     "data": {
      "image/png": "[encoded data removed]",
      "text/plain": [
       "<Figure size 720x432 with 1 Axes>"
      ]
     },
     "metadata": {
      "needs_background": "light"
     },
     "output_type": "display_data"
    }
   ],
   "source": [
    "fig, ax = plt.subplots(1,1, figsize=(10,6))\n",
    "\n",
    "gmax = list(reversed([\"0\", \"0.15\", \"0.3\", \"0.45\", \"0.6\", \"0.75\", \"0.9\"]))\n",
    "\n",
    "ax.errorbar(gmax, on_fr_mean, yerr=on_fr_std, label=\"ON RGCs\")\n",
    "ax.errorbar(gmax, off_fr_mean, yerr=off_fr_std, label=\"OFF RGCs\")\n",
    "ax.set_ylim((-5,65))\n",
    "ax.set_ylabel(\"firing rate (Hz)\", fontsize=18)\n",
    "ax.set_xlabel(\"$g_{\\max}$ (nS)\", fontsize=18)\n",
    "ax.set_title(\"cone population = 100%\", fontsize=18)\n",
    "ax.legend(loc=\"upper left\")"
   ]
  },
  {
   "cell_type": "code",
   "execution_count": 42,
   "metadata": {},
   "outputs": [],
   "source": [
    "def get_spon_rate_fix_g_max(fr_dict, g_max):\n",
    "    fr_mean = []\n",
    "    fr_std = []\n",
    "    for cone_percent in reversed([0, 20, 40, 60, 80, 100]):\n",
    "        key = \"{}_{}\".format(g_max, cone_percent)\n",
    "        rate = fr_dict[key][:, 2]\n",
    "        fr_mean.append(np.mean(rate))\n",
    "        fr_std.append(np.std(rate))\n",
    "    return np.array(fr_mean), np.array(fr_std)\n",
    "on_fr_mean, on_fr_std = get_spon_rate_fix_g_max(on_fr, 0.9)\n",
    "off_fr_mean, off_fr_std = get_spon_rate_fix_g_max(off_fr, 0.9)"
   ]
  },
  {
   "cell_type": "code",
   "execution_count": 43,
   "metadata": {},
   "outputs": [
    {
     "data": {
      "image/png": "[encoded data removed]",
      "text/plain": [
       "<Figure size 720x432 with 1 Axes>"
      ]
     },
     "metadata": {
      "needs_background": "light"
     },
     "output_type": "display_data"
    }
   ],
   "source": [
    "fig, ax = plt.subplots(1,1, figsize=(10,6))\n",
    "\n",
    "cone_population = list(reversed([\"0\", \"20\", \"40\", \"60\", \"80\", \"100\"]))\n",
    "\n",
    "ax.errorbar(cone_population, on_fr_mean, yerr=on_fr_mean, label=\"ON RGCs\")\n",
    "ax.errorbar(cone_population, off_fr_mean, yerr=off_fr_std, label=\"OFF RGCs\")\n",
    "ax.set_ylim((-2.5,25))\n",
    "ax.set_ylabel(\"firing rate (Hz)\", fontsize=18)\n",
    "ax.set_xlabel(\"cone population (%)\", fontsize=18)\n",
    "ax.set_title(\"$g_{\\max}$ = 0.9 nS\", fontsize=18)\n",
    "ax.legend()"
   ]
  },
  {
   "cell_type": "code",
   "execution_count": null,
   "metadata": {},
   "outputs": [],
   "source": []
  }
 ],
 "metadata": {
  "kernelspec": {
   "display_name": "retinamodel",
   "language": "python",
   "name": "retinamodel"
  },
  "language_info": {
   "codemirror_mode": {
    "name": "ipython",
    "version": 3
   },
   "file_extension": ".py",
   "mimetype": "text/x-python",
   "name": "python",
   "nbconvert_exporter": "python",
   "pygments_lexer": "ipython3",
   "version": "3.7.6"
  }
 },
 "nbformat": 4,
 "nbformat_minor": 4
}
