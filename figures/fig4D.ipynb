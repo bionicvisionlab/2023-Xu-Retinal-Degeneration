{
 "cells": [
  {
   "cell_type": "code",
   "execution_count": 1,
   "metadata": {},
   "outputs": [],
   "source": [
    "import os\n",
    "import sys \n",
    "sys.path.insert(0, '/home/aiwenxu/2022-xu-retinal-degeneration')"
   ]
  },
  {
   "cell_type": "markdown",
   "metadata": {},
   "source": [
    "**Part 1: running retina simulation** "
   ]
  },
  {
   "cell_type": "code",
   "execution_count": 2,
   "metadata": {},
   "outputs": [],
   "source": [
    "import numpy as np\n",
    "from model.retinasim_phase12.simulation import stim_to_retina_output\n",
    "from model.retinasim_phase12.simulation_utils import SimulationParam\n",
    "import pickle\n",
    "from brian2 import *\n",
    "import os\n",
    "from scipy.spatial import distance_matrix"
   ]
  },
  {
   "cell_type": "code",
   "execution_count": 3,
   "metadata": {},
   "outputs": [
    {
     "name": "stdout",
     "output_type": "stream",
     "text": [
      "running brian code generation ...\n",
      "building genn executable ...\n",
      "['/home/aiwenxu/genn/bin/genn-buildmodel.sh', '-i', '/home/aiwenxu/2022-xu-retinal-degeneration/figures:/home/aiwenxu/2022-xu-retinal-degeneration/figures/GeNNworkspace_1:/home/aiwenxu/2022-xu-retinal-degeneration/figures/GeNNworkspace_1/brianlib/randomkit', 'magicnetwork_model.cpp']\n",
      "executing genn binary on GPU ...\n",
      "simulation time: 291.2591116428375\n",
      "running brian code generation ...\n",
      "building genn executable ...\n",
      "['/home/aiwenxu/genn/bin/genn-buildmodel.sh', '-i', '/home/aiwenxu/2022-xu-retinal-degeneration/figures:/home/aiwenxu/2022-xu-retinal-degeneration/figures/GeNNworkspace_1:/home/aiwenxu/2022-xu-retinal-degeneration/figures/GeNNworkspace_1/brianlib/randomkit', 'magicnetwork_model.cpp']\n",
      "executing genn binary on GPU ...\n",
      "simulation time: 264.20123171806335\n",
      "running brian code generation ...\n",
      "building genn executable ...\n",
      "['/home/aiwenxu/genn/bin/genn-buildmodel.sh', '-i', '/home/aiwenxu/2022-xu-retinal-degeneration/figures:/home/aiwenxu/2022-xu-retinal-degeneration/figures/GeNNworkspace_1:/home/aiwenxu/2022-xu-retinal-degeneration/figures/GeNNworkspace_1/brianlib/randomkit', 'magicnetwork_model.cpp']\n",
      "executing genn binary on GPU ...\n",
      "simulation time: 235.45893716812134\n",
      "running brian code generation ...\n",
      "building genn executable ...\n",
      "['/home/aiwenxu/genn/bin/genn-buildmodel.sh', '-i', '/home/aiwenxu/2022-xu-retinal-degeneration/figures:/home/aiwenxu/2022-xu-retinal-degeneration/figures/GeNNworkspace_1:/home/aiwenxu/2022-xu-retinal-degeneration/figures/GeNNworkspace_1/brianlib/randomkit', 'magicnetwork_model.cpp']\n",
      "executing genn binary on GPU ...\n",
      "simulation time: 209.49478030204773\n",
      "running brian code generation ...\n",
      "building genn executable ...\n",
      "['/home/aiwenxu/genn/bin/genn-buildmodel.sh', '-i', '/home/aiwenxu/2022-xu-retinal-degeneration/figures:/home/aiwenxu/2022-xu-retinal-degeneration/figures/GeNNworkspace_1:/home/aiwenxu/2022-xu-retinal-degeneration/figures/GeNNworkspace_1/brianlib/randomkit', 'magicnetwork_model.cpp']\n",
      "executing genn binary on GPU ...\n",
      "simulation time: 180.12068057060242\n"
     ]
    }
   ],
   "source": [
    "pre_computed_weights_folder = \"../model/weights_phase12\"\n",
    "\n",
    "for light_g_max, cone_population in [(0.9, 100), (0.75, 80), (0.6, 60), (0.45, 40), (0.3, 20)]:\n",
    "\n",
    "    sp_txt = \"../model/parameter/cottaris_original_2hz.txt\"\n",
    "    sp = SimulationParam(sp_txt)\n",
    "\n",
    "    sp.xy_coord_folder = \"../model/layout_phase12/dendritic-tree-coordinate-{}\".format(cone_population)\n",
    "    sp.z_coord_folder = \"../model/layout_phase12/z-coordinate-{}\".format(cone_population)\n",
    "    \n",
    "    # light stim\n",
    "    cr_coordinates = np.load(\"{}/CR.npy\".format(sp.xy_coord_folder))\n",
    "    NUM_CR = cr_coordinates.shape[1]    \n",
    "    l_b = 0.5\n",
    "    cr_origin_dist_mat = distance_matrix(np.transpose(cr_coordinates), [np.array([0,0])])\n",
    "    part = np.ones((NUM_CR)) * l_b\n",
    "    part = np.tile(part, (3000,1))\n",
    "    stim = TimedArray(part, dt=1*ms)\n",
    "\n",
    "    time_in_ms = 3000\n",
    "    select_GPU = 1\n",
    "    genn_directory = \"GeNNworkspace_{}\".format(select_GPU)\n",
    "    _, _, _, _, _, _, _, _, _, spikes_gl_on, spikes_gl_off = stim_to_retina_output(time_in_ms, sp, light_g_max, pre_computed_weights_folder, lstim=stim, dt=0.1, select_GPU=select_GPU, genn_directory=genn_directory)\n",
    "\n",
    "    data_folder = \"../data/fig_spon_rate_3000/data-phase12-{}-{}\".format(light_g_max, cone_population)\n",
    "    if not os.path.exists(data_folder):\n",
    "        os.makedirs(data_folder)\n",
    "\n",
    "    with open('{}/spikes_gl_on.pickle'.format(data_folder), 'wb') as f:\n",
    "        pickle.dump(spikes_gl_on, f)\n",
    "\n",
    "    with open('{}/spikes_gl_off.pickle'.format(data_folder), 'wb') as f:\n",
    "        pickle.dump(spikes_gl_off, f)"
   ]
  },
  {
   "cell_type": "code",
   "execution_count": 4,
   "metadata": {},
   "outputs": [],
   "source": [
    "from model.retinasim_phase3.simulation import estim_to_retina_output\n",
    "from model.retinasim_phase3.simulation_utils import SimulationParam\n",
    "import pulse2percept as p2p"
   ]
  },
  {
   "cell_type": "code",
   "execution_count": 5,
   "metadata": {},
   "outputs": [
    {
     "name": "stdout",
     "output_type": "stream",
     "text": [
      "running brian code generation ...\n",
      "building genn executable ...\n",
      "['/home/aiwenxu/genn/bin/genn-buildmodel.sh', '-i', '/home/aiwenxu/2022-xu-retinal-degeneration/figures:/home/aiwenxu/2022-xu-retinal-degeneration/figures/GeNNworkspace_1:/home/aiwenxu/2022-xu-retinal-degeneration/figures/GeNNworkspace_1/brianlib/randomkit', 'magicnetwork_model.cpp']\n",
      "executing genn binary on GPU ...\n",
      "simulation time: 155.80155086517334\n",
      "running brian code generation ...\n",
      "building genn executable ...\n",
      "['/home/aiwenxu/genn/bin/genn-buildmodel.sh', '-i', '/home/aiwenxu/2022-xu-retinal-degeneration/figures:/home/aiwenxu/2022-xu-retinal-degeneration/figures/GeNNworkspace_1:/home/aiwenxu/2022-xu-retinal-degeneration/figures/GeNNworkspace_1/brianlib/randomkit', 'magicnetwork_model.cpp']\n",
      "executing genn binary on GPU ...\n",
      "simulation time: 147.09981322288513\n",
      "running brian code generation ...\n",
      "building genn executable ...\n",
      "['/home/aiwenxu/genn/bin/genn-buildmodel.sh', '-i', '/home/aiwenxu/2022-xu-retinal-degeneration/figures:/home/aiwenxu/2022-xu-retinal-degeneration/figures/GeNNworkspace_1:/home/aiwenxu/2022-xu-retinal-degeneration/figures/GeNNworkspace_1/brianlib/randomkit', 'magicnetwork_model.cpp']\n",
      "executing genn binary on GPU ...\n",
      "simulation time: 141.59309267997742\n",
      "running brian code generation ...\n",
      "building genn executable ...\n",
      "['/home/aiwenxu/genn/bin/genn-buildmodel.sh', '-i', '/home/aiwenxu/2022-xu-retinal-degeneration/figures:/home/aiwenxu/2022-xu-retinal-degeneration/figures/GeNNworkspace_1:/home/aiwenxu/2022-xu-retinal-degeneration/figures/GeNNworkspace_1/brianlib/randomkit', 'magicnetwork_model.cpp']\n",
      "executing genn binary on GPU ...\n",
      "simulation time: 134.01076292991638\n",
      "running brian code generation ...\n",
      "building genn executable ...\n",
      "['/home/aiwenxu/genn/bin/genn-buildmodel.sh', '-i', '/home/aiwenxu/2022-xu-retinal-degeneration/figures:/home/aiwenxu/2022-xu-retinal-degeneration/figures/GeNNworkspace_1:/home/aiwenxu/2022-xu-retinal-degeneration/figures/GeNNworkspace_1/brianlib/randomkit', 'magicnetwork_model.cpp']\n",
      "executing genn binary on GPU ...\n",
      "simulation time: 130.10165286064148\n",
      "running brian code generation ...\n",
      "building genn executable ...\n",
      "['/home/aiwenxu/genn/bin/genn-buildmodel.sh', '-i', '/home/aiwenxu/2022-xu-retinal-degeneration/figures:/home/aiwenxu/2022-xu-retinal-degeneration/figures/GeNNworkspace_1:/home/aiwenxu/2022-xu-retinal-degeneration/figures/GeNNworkspace_1/brianlib/randomkit', 'magicnetwork_model.cpp']\n",
      "executing genn binary on GPU ...\n",
      "simulation time: 122.68140029907227\n",
      "running brian code generation ...\n",
      "building genn executable ...\n",
      "['/home/aiwenxu/genn/bin/genn-buildmodel.sh', '-i', '/home/aiwenxu/2022-xu-retinal-degeneration/figures:/home/aiwenxu/2022-xu-retinal-degeneration/figures/GeNNworkspace_1:/home/aiwenxu/2022-xu-retinal-degeneration/figures/GeNNworkspace_1/brianlib/randomkit', 'magicnetwork_model.cpp']\n",
      "executing genn binary on GPU ...\n",
      "simulation time: 117.6751389503479\n",
      "running brian code generation ...\n",
      "building genn executable ...\n",
      "['/home/aiwenxu/genn/bin/genn-buildmodel.sh', '-i', '/home/aiwenxu/2022-xu-retinal-degeneration/figures:/home/aiwenxu/2022-xu-retinal-degeneration/figures/GeNNworkspace_1:/home/aiwenxu/2022-xu-retinal-degeneration/figures/GeNNworkspace_1/brianlib/randomkit', 'magicnetwork_model.cpp']\n",
      "executing genn binary on GPU ...\n",
      "simulation time: 114.27656722068787\n",
      "running brian code generation ...\n",
      "building genn executable ...\n",
      "['/home/aiwenxu/genn/bin/genn-buildmodel.sh', '-i', '/home/aiwenxu/2022-xu-retinal-degeneration/figures:/home/aiwenxu/2022-xu-retinal-degeneration/figures/GeNNworkspace_1:/home/aiwenxu/2022-xu-retinal-degeneration/figures/GeNNworkspace_1/brianlib/randomkit', 'magicnetwork_model.cpp']\n",
      "executing genn binary on GPU ...\n",
      "simulation time: 111.63690757751465\n",
      "running brian code generation ...\n",
      "building genn executable ...\n",
      "['/home/aiwenxu/genn/bin/genn-buildmodel.sh', '-i', '/home/aiwenxu/2022-xu-retinal-degeneration/figures:/home/aiwenxu/2022-xu-retinal-degeneration/figures/GeNNworkspace_1:/home/aiwenxu/2022-xu-retinal-degeneration/figures/GeNNworkspace_1/brianlib/randomkit', 'magicnetwork_model.cpp']\n",
      "executing genn binary on GPU ...\n",
      "simulation time: 105.91344738006592\n"
     ]
    }
   ],
   "source": [
    "# in phase 3, no cone photoreceptors\n",
    "# light stimulation equivalent to running the network with no stimulation\n",
    "\n",
    "pre_computed_weights_folder = \"../model/weights_phase3\"\n",
    "implant_mode = \"epiretinal\"\n",
    "amp = 0\n",
    "\n",
    "cell_percents = [100, 90, 80, 70, 60, 50, 40, 30, 20, 10]\n",
    "move_percents = [0, 10, 10, 20, 20, 30, 30, 40, 40, 50]\n",
    "\n",
    "for i in range(10):\n",
    "    \n",
    "    cell_percent = cell_percents[i]\n",
    "    move_percent = move_percents[i]\n",
    "        \n",
    "    sp_txt = \"../model/parameter/cottaris_original_2hz.txt\"\n",
    "    sp = SimulationParam(sp_txt)\n",
    "\n",
    "    sp.xy_coord_folder = \"../model/layout_phase3/dendritic-tree-coordinate-{}\".format(cell_percent)\n",
    "    if move_percent == 0:\n",
    "        sp.z_coord_folder = \"../model/layout_phase3/z-coordinate-{}\".format(cell_percent)\n",
    "    else:\n",
    "        sp.z_coord_folder = \"../model/layout_phase3/z-coordinate-{}-move-{}\".format(cell_percent, move_percent)\n",
    "    sp.cone_exists = False\n",
    "    sp.imped = 1000\n",
    "\n",
    "    pt = p2p.stimuli.BiphasicPulseTrain(20, amp, 0.45, stim_dur=3000, cathodic_first=True)\n",
    "    \n",
    "    time_in_ms = 3000\n",
    "    select_GPU = 1\n",
    "    genn_directory = \"GeNNworkspace_{}\".format(select_GPU)\n",
    "    _, _, _, _, _, _, _, _, _, spikes_gl_on, spikes_gl_off = estim_to_retina_output(time_in_ms, sp, pt, pre_computed_weights_folder, dt=0.1, delta_ve_folder=\"delta_ve_workspace_{}\".format(select_GPU), select_GPU=select_GPU, genn_directory=genn_directory)\n",
    "\n",
    "    data_folder = \"../data/fig_spon_rate/data-phase3-{}-{}\".format(cell_percent, move_percent)\n",
    "    if not os.path.exists(data_folder):\n",
    "        os.makedirs(data_folder)\n",
    "\n",
    "    with open('{}/spikes_gl_on.pickle'.format(data_folder), 'wb') as f:\n",
    "        pickle.dump(spikes_gl_on, f)\n",
    "\n",
    "    with open('{}/spikes_gl_off.pickle'.format(data_folder), 'wb') as f:\n",
    "        pickle.dump(spikes_gl_off, f)"
   ]
  },
  {
   "cell_type": "code",
   "execution_count": 7,
   "metadata": {},
   "outputs": [],
   "source": [
    "from model.retinasim_phase3.simulation_rgc_only import estim_to_retina_output\n",
    "from model.retinasim_phase3.simulation_utils import SimulationParam"
   ]
  },
  {
   "cell_type": "code",
   "execution_count": 8,
   "metadata": {},
   "outputs": [
    {
     "name": "stdout",
     "output_type": "stream",
     "text": [
      "running brian code generation ...\n",
      "building genn executable ...\n",
      "['/home/aiwenxu/genn/bin/genn-buildmodel.sh', '-i', '/home/aiwenxu/2022-xu-retinal-degeneration/figures:/home/aiwenxu/2022-xu-retinal-degeneration/figures/GeNNworkspace_1:/home/aiwenxu/2022-xu-retinal-degeneration/figures/GeNNworkspace_1/brianlib/randomkit', 'magicnetwork_model.cpp']\n",
      "executing genn binary on GPU ...\n",
      "simulation time: 60.92489719390869\n"
     ]
    }
   ],
   "source": [
    "# running the special case where there are 0% inner neurons (only RGCs are left)\n",
    "\n",
    "implant_mode = \"epiretinal\"\n",
    "amp = 0\n",
    "        \n",
    "sp_txt = \"../model/parameter/cottaris_original_2hz.txt\"\n",
    "sp = SimulationParam(sp_txt)\n",
    "\n",
    "# This run simulates 0% cell (100% cell death), but here cell_percent=10 is used.\n",
    "# This doesn't matter because the delta_ve values for the nonexistent cells will\n",
    "# not be used.\n",
    "cell_percent = 20\n",
    "sp.xy_coord_folder = \"../model/layout_phase3/dendritic-tree-coordinate-10\"\n",
    "sp.z_coord_folder = \"../model/layout_phase3/z-coordinate-10-move-50\"\n",
    "sp.cone_exists = False\n",
    "sp.imped = 1000\n",
    "\n",
    "pt = p2p.stimuli.BiphasicPulseTrain(20, amp, 0.45, stim_dur=3000, cathodic_first=True)\n",
    "\n",
    "time_in_ms = 3000\n",
    "select_GPU = 1\n",
    "genn_directory = \"GeNNworkspace_{}\".format(select_GPU)\n",
    "_, _, _, _, _, _, _, _, _, spikes_gl_on, spikes_gl_off = estim_to_retina_output(time_in_ms, sp, pt, dt=0.1, delta_ve_folder=\"delta_ve_workspace_{}\".format(select_GPU), select_GPU=select_GPU, genn_directory=genn_directory)\n",
    "\n",
    "data_folder = \"../data/fig_spon_rate/data-phase3-0-50\"\n",
    "if not os.path.exists(data_folder):\n",
    "    os.makedirs(data_folder)\n",
    "\n",
    "with open('{}/spikes_gl_on.pickle'.format(data_folder), 'wb') as f:\n",
    "    pickle.dump(spikes_gl_on, f)\n",
    "\n",
    "with open('{}/spikes_gl_off.pickle'.format(data_folder), 'wb') as f:\n",
    "    pickle.dump(spikes_gl_off, f)"
   ]
  },
  {
   "cell_type": "markdown",
   "metadata": {},
   "source": [
    "**Part 2: interpolation and plotting**"
   ]
  },
  {
   "cell_type": "code",
   "execution_count": 9,
   "metadata": {},
   "outputs": [],
   "source": [
    "import matplotlib.pyplot as plt\n",
    "from scipy import interpolate"
   ]
  },
  {
   "cell_type": "code",
   "execution_count": 10,
   "metadata": {},
   "outputs": [],
   "source": [
    "# 3000 ms data with the first 500 ms cut out\n",
    "def calculate_mean_std(spikes_gl):\n",
    "    rate = []\n",
    "    for key in spikes_gl['t']:\n",
    "        spikes = spikes_gl['t'][key]/ms\n",
    "        spikes = spikes[spikes >= 500]\n",
    "        rate.append(len(spikes)/2.5)\n",
    "    rate_ar = np.array(rate)\n",
    "    return np.mean(rate_ar), np.std(rate_ar)"
   ]
  },
  {
   "cell_type": "code",
   "execution_count": 12,
   "metadata": {},
   "outputs": [],
   "source": [
    "def line_plot_disk_ring(folder):\n",
    "    on_fr_mean = []\n",
    "    on_fr_std = []\n",
    "    off_fr_mean = []\n",
    "    off_fr_std = []\n",
    "    for light_g_max, cone_population in [(0.9, 100), (0.75, 80), (0.6, 60), (0.45, 40), (0.3, 20)]:\n",
    "        with open(\"{}/data-phase12-{}-{}/spikes_gl_on.pickle\".format(folder, light_g_max, cone_population), 'rb') as f:\n",
    "            on_spikes = pickle.load(f)\n",
    "        on_m, on_s = calculate_mean_std(on_spikes)\n",
    "        on_fr_mean.append(on_m)\n",
    "        on_fr_std.append(on_s)\n",
    "        with open(\"{}/data-phase12-{}-{}/spikes_gl_off.pickle\".format(folder, light_g_max, cone_population), 'rb') as f:\n",
    "            off_spikes = pickle.load(f)\n",
    "        off_m, off_s = calculate_mean_std(off_spikes)\n",
    "        off_fr_mean.append(off_m)\n",
    "        off_fr_std.append(off_s)\n",
    "    cell_percents = [100, 90, 80, 70, 60, 50, 40, 30, 20, 10, 0]\n",
    "    move_percents = [0, 10, 10, 20, 20, 30, 30, 40, 40, 50, 50]\n",
    "    for i in range(11):\n",
    "        cell_percent = cell_percents[i]\n",
    "        move_percent = move_percents[i]\n",
    "        with open(\"{}/data-phase3-{}-{}/spikes_gl_on.pickle\".format(folder, cell_percent, move_percent), 'rb') as f:\n",
    "            on_spikes = pickle.load(f)\n",
    "        on_m, on_s = calculate_mean_std(on_spikes)\n",
    "        on_fr_mean.append(on_m)\n",
    "        on_fr_std.append(on_s)\n",
    "        with open(\"{}/data-phase3-{}-{}/spikes_gl_off.pickle\".format(folder, cell_percent, move_percent), 'rb') as f:\n",
    "            off_spikes = pickle.load(f)\n",
    "        off_m, off_s = calculate_mean_std(off_spikes)\n",
    "        off_fr_mean.append(off_m)\n",
    "        off_fr_std.append(off_s)\n",
    "    fig, ax = plt.subplots(1,1,figsize=(18, 6))\n",
    "    ax.errorbar(np.arange(16), on_fr_mean, yerr=on_fr_std, label=\"ON RGCs\", linewidth=3)\n",
    "    ax.errorbar(np.arange(16), off_fr_mean, yerr=off_fr_std, label=\"OFF RGCs\", linewidth=3)\n",
    "    ax.set_xticks([0,1,2,3,4,5,6,7,8,9,10,11,12,13,14,15])\n",
    "    ax.set_xticklabels([\"healthy\", \"$g_\\max$=0.75\\ncone 80%\", \"$g_\\max$=0.6\\ncone 60%\", \"$g_\\max$=0.45\\ncone 40%\", \"$g_\\max$=0.3\\ncone 20%\", \"cone 0%\", \"death 10%\\nmigration 10%\", \"death 20%\\nmigration 10%\", \"death 30%\\nmigration 20%\", \"death 40%\\nmigration 20%\", \"death 50%\\nmigration 30%\", \"death 60%\\nmigration 30%\", \"death 70%\\nmigration 40%\", \"death 80%\\nmigration 40%\", \"death 90%\\nmigration 50%\", \"death 100%\\nmigration 50%\"], fontsize=7)\n",
    "    ax.set_ylabel(\"Firing Rate (Hz)\")\n",
    "    ax.legend()\n",
    "    plt.savefig(\"spon_rate_3000.pdf\")"
   ]
  },
  {
   "cell_type": "code",
   "execution_count": 14,
   "metadata": {},
   "outputs": [
    {
     "data": {
      "image/png": "[encoded data removed]",
      "text/plain": [
       "<Figure size 1296x432 with 1 Axes>"
      ]
     },
     "metadata": {
      "needs_background": "light"
     },
     "output_type": "display_data"
    }
   ],
   "source": [
    "line_plot_disk_ring(\"../data/fig_spon_rate_3000\")"
   ]
  },
  {
   "cell_type": "code",
   "execution_count": null,
   "metadata": {},
   "outputs": [],
   "source": []
  }
 ],
 "metadata": {
  "kernelspec": {
   "display_name": "retinamodel",
   "language": "python",
   "name": "retinamodel"
  },
  "language_info": {
   "codemirror_mode": {
    "name": "ipython",
    "version": 3
   },
   "file_extension": ".py",
   "mimetype": "text/x-python",
   "name": "python",
   "nbconvert_exporter": "python",
   "pygments_lexer": "ipython3",
   "version": "3.7.6"
  }
 },
 "nbformat": 4,
 "nbformat_minor": 4
}
