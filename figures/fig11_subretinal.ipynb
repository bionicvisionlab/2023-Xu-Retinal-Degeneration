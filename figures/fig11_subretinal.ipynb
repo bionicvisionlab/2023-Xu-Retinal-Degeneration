{
 "cells": [
  {
   "cell_type": "code",
   "execution_count": 1,
   "metadata": {},
   "outputs": [],
   "source": [
    "import os\n",
    "import sys \n",
    "sys.path.insert(0, '/home/aiwenxu/2022-xu-retinal-degeneration')"
   ]
  },
  {
   "cell_type": "markdown",
   "metadata": {},
   "source": [
    "**Part 1: healthy threshold**"
   ]
  },
  {
   "cell_type": "code",
   "execution_count": 4,
   "metadata": {},
   "outputs": [],
   "source": [
    "import numpy as np\n",
    "from model.retinasim_phase12.simulation import estim_to_retina_output\n",
    "from model.retinasim_phase12.simulation_utils import SimulationParam\n",
    "import pickle\n",
    "from brian2 import *\n",
    "import pulse2percept as p2p"
   ]
  },
  {
   "cell_type": "code",
   "execution_count": 5,
   "metadata": {},
   "outputs": [],
   "source": [
    "def calculate_mean_std_center(spikes_gl, cell_type):\n",
    "    num_spikes = []\n",
    "    x, y = np.load(\"../model/layout_phase12/dendritic-tree-coordinate-100/GL_{}.npy\".format(cell_type.upper()))\n",
    "    for key in spikes_gl['t']:\n",
    "        if np.sqrt(np.square(x[key]) + np.square(y[key])) <= 40:\n",
    "            num_spikes.append(len(spikes_gl['t'][key]))\n",
    "    spike_ar = np.array(num_spikes)\n",
    "    return np.mean(num_spikes), np.std(num_spikes)"
   ]
  },
  {
   "cell_type": "code",
   "execution_count": 7,
   "metadata": {},
   "outputs": [
    {
     "name": "stdout",
     "output_type": "stream",
     "text": [
      "running brian code generation ...\n",
      "building genn executable ...\n",
      "['/home/aiwenxu/genn/bin/genn-buildmodel.sh', '-i', '/home/aiwenxu/2022-xu-retinal-degeneration/figures:/home/aiwenxu/2022-xu-retinal-degeneration/figures/GeNNworkspace_1:/home/aiwenxu/2022-xu-retinal-degeneration/figures/GeNNworkspace_1/brianlib/randomkit', 'magicnetwork_model.cpp']\n",
      "executing genn binary on GPU ...\n",
      "simulation time: 158.13085055351257\n",
      "amp: 60, mean on spikes: 9.81578947368421, mean off spikes: 9.054054054054054\n",
      "running brian code generation ...\n",
      "building genn executable ...\n",
      "['/home/aiwenxu/genn/bin/genn-buildmodel.sh', '-i', '/home/aiwenxu/2022-xu-retinal-degeneration/figures:/home/aiwenxu/2022-xu-retinal-degeneration/figures/GeNNworkspace_1:/home/aiwenxu/2022-xu-retinal-degeneration/figures/GeNNworkspace_1/brianlib/randomkit', 'magicnetwork_model.cpp']\n",
      "executing genn binary on GPU ...\n",
      "simulation time: 148.34822988510132\n",
      "amp: 65, mean on spikes: 11.052631578947368, mean off spikes: 9.72972972972973\n",
      "running brian code generation ...\n",
      "building genn executable ...\n",
      "['/home/aiwenxu/genn/bin/genn-buildmodel.sh', '-i', '/home/aiwenxu/2022-xu-retinal-degeneration/figures:/home/aiwenxu/2022-xu-retinal-degeneration/figures/GeNNworkspace_1:/home/aiwenxu/2022-xu-retinal-degeneration/figures/GeNNworkspace_1/brianlib/randomkit', 'magicnetwork_model.cpp']\n",
      "executing genn binary on GPU ...\n",
      "simulation time: 149.65984177589417\n",
      "amp: 70, mean on spikes: 12.81578947368421, mean off spikes: 10.567567567567568\n",
      "running brian code generation ...\n",
      "building genn executable ...\n",
      "['/home/aiwenxu/genn/bin/genn-buildmodel.sh', '-i', '/home/aiwenxu/2022-xu-retinal-degeneration/figures:/home/aiwenxu/2022-xu-retinal-degeneration/figures/GeNNworkspace_1:/home/aiwenxu/2022-xu-retinal-degeneration/figures/GeNNworkspace_1/brianlib/randomkit', 'magicnetwork_model.cpp']\n",
      "executing genn binary on GPU ...\n",
      "simulation time: 149.44326853752136\n",
      "amp: 75, mean on spikes: 15.447368421052632, mean off spikes: 11.72972972972973\n"
     ]
    }
   ],
   "source": [
    "result_mean_on = []\n",
    "result_mean_off = []\n",
    "result_std_on = []\n",
    "result_std_off = []\n",
    "pre_computed_weights_folder = \"../model/weights_phase12\"\n",
    "implant_mode = \"subretinal\"\n",
    "light_g_max = 0.9\n",
    "cone_population = 100\n",
    "sp_txt = \"../model/parameter/cottaris_original_2hz.txt\"\n",
    "sp = SimulationParam(sp_txt)\n",
    "sp.xy_coord_folder = \"../model/layout_phase12/dendritic-tree-coordinate-{}\".format(cone_population)\n",
    "sp.z_coord_folder = \"../model/layout_phase12/z-coordinate-{}\".format(cone_population)\n",
    "sp.imped = 1000\n",
    "# subretinal stimulation\n",
    "if implant_mode == \"subretinal\":\n",
    "    sp.implant_mode = \"subretinal\"\n",
    "    sp.electrode_z = 135\n",
    "    \n",
    "for amp in np.arange(60, 80, 5):\n",
    "\n",
    "    pt = p2p.stimuli.BiphasicPulseTrain(20, amp, 0.45, stim_dur=1000, cathodic_first=True)\n",
    "\n",
    "    time_in_ms = 1000\n",
    "    select_GPU = 1\n",
    "    genn_directory = \"GeNNworkspace_{}\".format(select_GPU)\n",
    "    _, _, _, _, _, _, _, _, _, spikes_gl_on, spikes_gl_off = estim_to_retina_output(time_in_ms, sp, light_g_max, pt, pre_computed_weights_folder, delta_ve_folder=\"delta_ve_workspace_{}\".format(select_GPU), dt=0.1, select_GPU=select_GPU, genn_directory=genn_directory)\n",
    "\n",
    "    mean_on, std_on = calculate_mean_std_center(spikes_gl_on, \"on\")\n",
    "    mean_off, std_off = calculate_mean_std_center(spikes_gl_off, \"off\")\n",
    "    \n",
    "    print(\"amp: {}, mean on spikes: {}, mean off spikes: {}\".format(amp, mean_on, mean_off))\n",
    "    result_mean_on.append(mean_on)\n",
    "    result_mean_off.append(mean_off)\n",
    "    result_std_on.append(std_on)\n",
    "    result_std_off.append(std_off)"
   ]
  },
  {
   "cell_type": "markdown",
   "metadata": {},
   "source": [
    "* ON RGCs: 65 uA\n",
    "* OFF RGCs: 70 uA"
   ]
  },
  {
   "cell_type": "markdown",
   "metadata": {},
   "source": [
    "**Part 2: degeneration threshold**"
   ]
  },
  {
   "cell_type": "code",
   "execution_count": null,
   "metadata": {},
   "outputs": [],
   "source": [
    "# ON RGCs\n",
    "\n",
    "for light_g_max, cone_population in [(0.75, 80), (0.6, 60), (0.45, 40), (0.3, 20)]:\n",
    "\n",
    "    implant_mode = \"subretinal\"\n",
    "    healthy_threshold = 65 # ON\n",
    "    cell_type = \"on\"\n",
    "    \n",
    "    pre_computed_weights_folder = \"../model/weights_phase12\"\n",
    "\n",
    "    sp_txt = \"../model/parameter/cottaris_original_2hz.txt\"\n",
    "    sp = SimulationParam(sp_txt)\n",
    "\n",
    "    sp.xy_coord_folder = \"../model/layout_phase12/dendritic-tree-coordinate-{}\".format(cone_population)\n",
    "    sp.z_coord_folder = \"../model/layout_phase12/z-coordinate-{}\".format(cone_population)\n",
    "    sp.imped = 1000\n",
    "\n",
    "    # subretinal stimulation\n",
    "    if implant_mode == \"subretinal\":\n",
    "        sp.implant_mode = \"subretinal\"\n",
    "        sp.electrode_z = 135\n",
    "\n",
    "    for percentage in range(0, 305, 5):\n",
    "\n",
    "        amp = healthy_threshold * percentage / 100\n",
    "\n",
    "        pt = p2p.stimuli.BiphasicPulseTrain(20, amp, 0.45, stim_dur=1000, cathodic_first=True)\n",
    "\n",
    "        time_in_ms = 1000\n",
    "        select_GPU = 1\n",
    "        genn_directory = \"GeNNworkspace_{}\".format(select_GPU)\n",
    "        _, _, _, _, _, _, _, _, _, spikes_gl_on, spikes_gl_off = estim_to_retina_output(time_in_ms, sp, light_g_max, pt, pre_computed_weights_folder, delta_ve_folder=\"delta_ve_workspace_{}\".format(select_GPU), dt=0.1, select_GPU=select_GPU, genn_directory=genn_directory)\n",
    "\n",
    "        data_folder = \"../data/fig11/data-threshold-{}-{}-{}-{}/data-{}\".format(implant_mode, light_g_max, cone_population, cell_type, percentage)\n",
    "        if not os.path.exists(data_folder):\n",
    "            os.makedirs(data_folder)\n",
    "\n",
    "        with open('{}/spikes_gl_on.pickle'.format(data_folder), 'wb') as f:\n",
    "            pickle.dump(spikes_gl_on, f)"
   ]
  },
  {
   "cell_type": "code",
   "execution_count": null,
   "metadata": {},
   "outputs": [],
   "source": [
    "# OFF RGCs\n",
    "\n",
    "for light_g_max, cone_population in [(0.75, 80), (0.6, 60), (0.45, 40), (0.3, 20)]:\n",
    "\n",
    "    implant_mode = \"subretinal\"\n",
    "    healthy_threshold = 70 # OFF\n",
    "    cell_type = \"off\"\n",
    "    \n",
    "    pre_computed_weights_folder = \"../model/weights_phase12\"\n",
    "\n",
    "    sp_txt = \"../model/parameter/cottaris_original_2hz.txt\"\n",
    "    sp = SimulationParam(sp_txt)\n",
    "\n",
    "    sp.xy_coord_folder = \"../model/layout_phase12/dendritic-tree-coordinate-{}\".format(cone_population)\n",
    "    sp.z_coord_folder = \"../model/layout_phase12/z-coordinate-{}\".format(cone_population)\n",
    "    sp.imped = 1000\n",
    "\n",
    "    # subretinal stimulation\n",
    "    if implant_mode == \"subretinal\":\n",
    "        sp.implant_mode = \"subretinal\"\n",
    "        sp.electrode_z = 135\n",
    "\n",
    "    for percentage in range(0, 305, 5):\n",
    "\n",
    "        amp = healthy_threshold * percentage / 100\n",
    "\n",
    "        pt = p2p.stimuli.BiphasicPulseTrain(20, amp, 0.45, stim_dur=1000, cathodic_first=True)\n",
    "\n",
    "        time_in_ms = 1000\n",
    "        select_GPU = 1\n",
    "        genn_directory = \"GeNNworkspace_{}\".format(select_GPU)\n",
    "        _, _, _, _, _, _, _, _, _, spikes_gl_on, spikes_gl_off = estim_to_retina_output(time_in_ms, sp, light_g_max, pt, pre_computed_weights_folder, delta_ve_folder=\"delta_ve_workspace_{}\".format(select_GPU), dt=0.1, select_GPU=select_GPU, genn_directory=genn_directory)\n",
    "\n",
    "        data_folder = \"../data/fig11/data-threshold-{}-{}-{}-{}/data-{}\".format(implant_mode, light_g_max, cone_population, cell_type, percentage)\n",
    "        if not os.path.exists(data_folder):\n",
    "            os.makedirs(data_folder)\n",
    "\n",
    "        with open('{}/spikes_gl_off.pickle'.format(data_folder), 'wb') as f:\n",
    "            pickle.dump(spikes_gl_off, f)"
   ]
  },
  {
   "cell_type": "code",
   "execution_count": null,
   "metadata": {},
   "outputs": [],
   "source": [
    "# ON RGCs\n",
    "\n",
    "from model.retinasim_phase3.simulation import estim_to_retina_output\n",
    "from model.retinasim_phase3.simulation_utils import SimulationParam\n",
    "\n",
    "pre_computed_weights_folder = \"../model/weights_phase3\"\n",
    "implant_mode = \"subretinal\"\n",
    "healthy_threshold = 65 # ON\n",
    "cell_type = \"on\"\n",
    "\n",
    "cell_percents = [100, 90, 80, 70, 60, 50, 40, 30, 20, 10]\n",
    "move_percents = [0, 10, 10, 20, 20, 30, 30, 40, 40, 50]\n",
    "\n",
    "for i in range(10):\n",
    "    \n",
    "    cell_percent = cell_percents[i]\n",
    "    move_percent = move_percents[i]\n",
    "        \n",
    "    sp_txt = \"../model/parameter/cottaris_original_2hz.txt\"\n",
    "    sp = SimulationParam(sp_txt)\n",
    "\n",
    "    sp.xy_coord_folder = \"../model/layout_phase3/dendritic-tree-coordinate-{}\".format(cell_percent)\n",
    "    if move_percent == 0:\n",
    "        sp.z_coord_folder = \"../model/layout_phase3/z-coordinate-{}\".format(cell_percent)\n",
    "    else:\n",
    "        sp.z_coord_folder = \"../model/layout_phase3/z-coordinate-{}-move-{}\".format(cell_percent, move_percent)\n",
    "    sp.cone_exists = False\n",
    "    sp.imped = 1000\n",
    "    \n",
    "    # implant mode\n",
    "    if implant_mode == \"subretinal\":\n",
    "        sp.implant_mode = \"subretinal\"\n",
    "        sp.electrode_z = 135\n",
    "        \n",
    "    for percentage in range(0, 805, 5):\n",
    "        \n",
    "        amp = healthy_threshold * percentage / 100\n",
    "\n",
    "        pt = p2p.stimuli.BiphasicPulseTrain(20, amp, 0.45, stim_dur=1000, cathodic_first=True)\n",
    "\n",
    "        time_in_ms = 1000\n",
    "        select_GPU = 0\n",
    "        genn_directory = \"GeNNworkspace_{}\".format(select_GPU)\n",
    "        _, _, _, _, _, _, _, _, _, spikes_gl_on, spikes_gl_off = estim_to_retina_output(time_in_ms, sp, pt, pre_computed_weights_folder, dt=0.1, delta_ve_folder=\"delta_ve_workspace_{}\".format(select_GPU), select_GPU=select_GPU, genn_directory=genn_directory)\n",
    "\n",
    "        data_folder = \"../data/fig11/data-threshold-{}-{}-{}-{}/data-{}\".format(implant_mode, cell_percent, move_percent, cell_type, percentage)\n",
    "        if not os.path.exists(data_folder):\n",
    "            os.makedirs(data_folder)\n",
    "\n",
    "        with open('{}/spikes_gl_on.pickle'.format(data_folder), 'wb') as f:\n",
    "            pickle.dump(spikes_gl_on, f)"
   ]
  },
  {
   "cell_type": "code",
   "execution_count": null,
   "metadata": {},
   "outputs": [],
   "source": [
    "# OFF RGCs\n",
    "\n",
    "from model.retinasim_phase3.simulation_rgc_only import estim_to_retina_output\n",
    "from model.retinasim_phase3.simulation_utils import SimulationParam\n",
    "\n",
    "implant_mode = \"subretinal\"\n",
    "healthy_threshold = 70 # OFF\n",
    "cell_type = \"off\"\n",
    "        \n",
    "sp_txt = \"../model/parameter/cottaris_original_2hz.txt\"\n",
    "sp = SimulationParam(sp_txt)\n",
    "\n",
    "# This run simulates 0% cell (100% cell death), but here cell_percent=10 is used.\n",
    "# This doesn't matter because the delta_ve values for the nonexistent cells will\n",
    "# not be used.\n",
    "cell_percent = 0\n",
    "move_percent = 50\n",
    "sp.xy_coord_folder = \"../model/layout_phase3/dendritic-tree-coordinate-{}\".format(10)\n",
    "sp.z_coord_folder = \"../model/layout_phase3/z-coordinate-{}-move-50\".format(10, move_percent)\n",
    "sp.cone_exists = False\n",
    "sp.imped = 1000\n",
    "\n",
    "# implant mode\n",
    "if implant_mode == \"subretinal\":\n",
    "    sp.implant_mode = \"subretinal\"\n",
    "    sp.electrode_z = 135\n",
    "\n",
    "for percentage in range(100, 805, 5):\n",
    "        \n",
    "    amp = healthy_threshold * percentage / 100\n",
    "\n",
    "    pt = p2p.stimuli.BiphasicPulseTrain(20, amp, 0.45, stim_dur=1000, cathodic_first=True)\n",
    "\n",
    "    time_in_ms = 1000\n",
    "    select_GPU = 0\n",
    "    genn_directory = \"GeNNworkspace_{}\".format(select_GPU)\n",
    "    _, _, _, _, _, _, _, _, _, spikes_gl_on, spikes_gl_off = estim_to_retina_output(time_in_ms, sp, pt, dt=0.1, delta_ve_folder=\"delta_ve_workspace_{}\".format(select_GPU), select_GPU=select_GPU, genn_directory=genn_directory)\n",
    "\n",
    "    data_folder = \"../data/fig11/data-threshold-{}-{}-{}-{}/data-{}\".format(implant_mode, cell_percent, move_percent, cell_type, percentage)\n",
    "    if not os.path.exists(data_folder):\n",
    "        os.makedirs(data_folder)\n",
    "\n",
    "    with open('{}/spikes_gl_off.pickle'.format(data_folder), 'wb') as f:\n",
    "        pickle.dump(spikes_gl_off, f)"
   ]
  },
  {
   "cell_type": "markdown",
   "metadata": {},
   "source": [
    "**Part 3: calculating thresholds and plotting**"
   ]
  },
  {
   "cell_type": "code",
   "execution_count": 11,
   "metadata": {},
   "outputs": [],
   "source": [
    "import matplotlib.pyplot as plt\n",
    "import numpy as np\n",
    "import pickle"
   ]
  },
  {
   "cell_type": "code",
   "execution_count": 12,
   "metadata": {},
   "outputs": [],
   "source": [
    "def calculate_thres_center(data_folder, cell_type, low, high):\n",
    "    thres_res = []\n",
    "    x, y = np.load(\"../model/layout_phase12/dendritic-tree-coordinate-100/GL_{}.npy\".format(cell_type.upper()))\n",
    "    for key in range(len(x)):\n",
    "        if np.sqrt(np.square(x[key]) + np.square(y[key])) <= 40:\n",
    "            for thres_fac in range(low, high+1, 5):\n",
    "                with open(\"{}/data-{}/spikes_gl_{}.pickle\".format(data_folder, thres_fac, cell_type), 'rb') as f:\n",
    "                    spikes_gl = pickle.load(f)\n",
    "                num_spikes = len(spikes_gl['t'][key])\n",
    "                if num_spikes >= 10:\n",
    "                    thres_res.append(thres_fac)\n",
    "                    break\n",
    "    return thres_res"
   ]
  },
  {
   "cell_type": "code",
   "execution_count": 13,
   "metadata": {},
   "outputs": [],
   "source": [
    "implant_mode = \"subretinal\"\n",
    "thres_mean_on, thres_std_on = [100], [0]\n",
    "thres_mean_off, thres_std_off = [100], [0]\n",
    "for light_g_max, cone_population in [(0.75, 80), (0.6, 60), (0.45, 40), (0.3, 20)]:\n",
    "    data_folder = \"../data/fig11/data-threshold-{}-{}-{}-on\".format(implant_mode, light_g_max, cone_population)\n",
    "    thres_on = calculate_thres_center(data_folder, \"on\", 100, 300)\n",
    "    thres_mean_on.append(np.mean(thres_on))\n",
    "    thres_std_on.append(np.std(thres_on))\n",
    "    data_folder = \"../data/fig11/data-threshold-{}-{}-{}-off\".format(implant_mode, light_g_max, cone_population)\n",
    "    thres_off = calculate_thres_center(data_folder, \"off\", 0, 300)\n",
    "    thres_mean_off.append(np.mean(thres_off))\n",
    "    thres_std_off.append(np.std(thres_off))\n",
    "cell_percents = [100, 90, 80, 70, 60, 50, 40, 30, 20, 10, 0]\n",
    "move_percents = [0, 10, 10, 20, 20, 30, 30, 40, 40, 50, 50]\n",
    "for i in range(11):\n",
    "    data_folder = \"../data/fig11/data-threshold-{}-{}-{}-on\".format(implant_mode, cell_percents[i], move_percents[i])\n",
    "    thres_on = calculate_thres_center(data_folder, \"on\", 0, 300)\n",
    "    thres_mean_on.append(np.mean(thres_on))\n",
    "    thres_std_on.append(np.std(thres_on))\n",
    "    data_folder = \"../data/fig11/data-threshold-{}-{}-{}-off\".format(implant_mode, cell_percents[i], move_percents[i])\n",
    "    thres_off = calculate_thres_center(data_folder, \"off\", 0, 300)\n",
    "    thres_mean_off.append(np.mean(thres_off))\n",
    "    thres_std_off.append(np.std(thres_off))"
   ]
  },
  {
   "cell_type": "code",
   "execution_count": 14,
   "metadata": {},
   "outputs": [
    {
     "data": {
      "text/plain": [
       "<matplotlib.legend.Legend at 0x7f308a2f1310>"
      ]
     },
     "execution_count": 14,
     "metadata": {},
     "output_type": "execute_result"
    },
    {
     "data": {
      "image/png": "[encoded data removed]",
      "text/plain": [
       "<Figure size 1296x432 with 1 Axes>"
      ]
     },
     "metadata": {
      "needs_background": "light"
     },
     "output_type": "display_data"
    }
   ],
   "source": [
    "fig, ax = plt.subplots(1,1,figsize=(18, 6))\n",
    "ax.errorbar(np.arange(16), thres_mean_on, yerr=thres_std_on, label=\"ON RGCs\", linewidth=3)\n",
    "ax.errorbar(np.arange(16), thres_mean_off, yerr=thres_std_off, label=\"OFF RGCs\", linewidth=3)\n",
    "ax.set_xticks([0,1,2,3,4,5,6,7,8,9,10,11,12,13,14,15])\n",
    "ax.set_xticklabels([\"healthy\", \"$g_\\max$=0.75\\ncone 80%\", \"$g_\\max$=0.6\\ncone 60%\", \"$g_\\max$=0.45\\ncone 40%\", \"$g_\\max$=0.3\\ncone 20%\", \"cone 0%\", \"death 10%\\nmigration 10%\", \"death 20%\\nmigration 10%\", \"death 30%\\nmigration 20%\", \"death 40%\\nmigration 20%\", \"death 50%\\nmigration 30%\", \"death 60%\\nmigration 30%\", \"death 70%\\nmigration 40%\", \"death 80%\\nmigration 40%\", \"death 90%\\nmigration 50%\", \"death 100%\\nmigration 50%\"], fontsize=7)\n",
    "ax.set_ylabel(\"Threshold Relative to Healthy (%)\")\n",
    "ax.set_title(\"subretinal stimulation\")\n",
    "ax.legend()"
   ]
  },
  {
   "cell_type": "code",
   "execution_count": null,
   "metadata": {},
   "outputs": [],
   "source": []
  }
 ],
 "metadata": {
  "kernelspec": {
   "display_name": "retinamodel",
   "language": "python",
   "name": "retinamodel"
  },
  "language_info": {
   "codemirror_mode": {
    "name": "ipython",
    "version": 3
   },
   "file_extension": ".py",
   "mimetype": "text/x-python",
   "name": "python",
   "nbconvert_exporter": "python",
   "pygments_lexer": "ipython3",
   "version": "3.7.6"
  }
 },
 "nbformat": 4,
 "nbformat_minor": 4
}
