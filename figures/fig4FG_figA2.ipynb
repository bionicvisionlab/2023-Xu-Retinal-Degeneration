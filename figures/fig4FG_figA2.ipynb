{
 "cells": [
  {
   "cell_type": "code",
   "execution_count": 1,
   "metadata": {},
   "outputs": [],
   "source": [
    "import os\n",
    "import sys \n",
    "sys.path.insert(0, '/home/aiwenxu/2022-xu-retinal-degeneration')"
   ]
  },
  {
   "cell_type": "markdown",
   "metadata": {},
   "source": [
    "**Part 1: running retina simulation**"
   ]
  },
  {
   "cell_type": "code",
   "execution_count": 2,
   "metadata": {},
   "outputs": [],
   "source": [
    "import numpy as np\n",
    "from model.retinasim_phase12.simulation import stim_to_retina_output\n",
    "from model.retinasim_phase12.simulation_utils import SimulationParam\n",
    "import pickle\n",
    "from brian2 import *"
   ]
  },
  {
   "cell_type": "code",
   "execution_count": 3,
   "metadata": {},
   "outputs": [
    {
     "name": "stdout",
     "output_type": "stream",
     "text": [
      "retina sim total time: 2500\n",
      "running brian code generation ...\n",
      "building genn executable ...\n",
      "['/home/aiwenxu/genn/bin/genn-buildmodel.sh', '-i', '/home/aiwenxu/2022-xu-retinal-degeneration/figures:/home/aiwenxu/2022-xu-retinal-degeneration/figures/GeNNworkspace_1:/home/aiwenxu/2022-xu-retinal-degeneration/figures/GeNNworkspace_1/brianlib/randomkit', 'magicnetwork_model.cpp']\n",
      "executing genn binary on GPU ...\n",
      "simulation time: 256.7625651359558\n",
      "retina sim total time: 2500\n",
      "running brian code generation ...\n",
      "building genn executable ...\n",
      "['/home/aiwenxu/genn/bin/genn-buildmodel.sh', '-i', '/home/aiwenxu/2022-xu-retinal-degeneration/figures:/home/aiwenxu/2022-xu-retinal-degeneration/figures/GeNNworkspace_1:/home/aiwenxu/2022-xu-retinal-degeneration/figures/GeNNworkspace_1/brianlib/randomkit', 'magicnetwork_model.cpp']\n",
      "executing genn binary on GPU ...\n",
      "simulation time: 254.67365765571594\n",
      "retina sim total time: 2500\n",
      "running brian code generation ...\n",
      "building genn executable ...\n",
      "['/home/aiwenxu/genn/bin/genn-buildmodel.sh', '-i', '/home/aiwenxu/2022-xu-retinal-degeneration/figures:/home/aiwenxu/2022-xu-retinal-degeneration/figures/GeNNworkspace_1:/home/aiwenxu/2022-xu-retinal-degeneration/figures/GeNNworkspace_1/brianlib/randomkit', 'magicnetwork_model.cpp']\n",
      "executing genn binary on GPU ...\n",
      "simulation time: 254.2276542186737\n",
      "retina sim total time: 2500\n",
      "running brian code generation ...\n",
      "building genn executable ...\n",
      "['/home/aiwenxu/genn/bin/genn-buildmodel.sh', '-i', '/home/aiwenxu/2022-xu-retinal-degeneration/figures:/home/aiwenxu/2022-xu-retinal-degeneration/figures/GeNNworkspace_1:/home/aiwenxu/2022-xu-retinal-degeneration/figures/GeNNworkspace_1/brianlib/randomkit', 'magicnetwork_model.cpp']\n",
      "executing genn binary on GPU ...\n",
      "simulation time: 255.20844769477844\n",
      "retina sim total time: 2500\n",
      "running brian code generation ...\n",
      "building genn executable ...\n",
      "['/home/aiwenxu/genn/bin/genn-buildmodel.sh', '-i', '/home/aiwenxu/2022-xu-retinal-degeneration/figures:/home/aiwenxu/2022-xu-retinal-degeneration/figures/GeNNworkspace_1:/home/aiwenxu/2022-xu-retinal-degeneration/figures/GeNNworkspace_1/brianlib/randomkit', 'magicnetwork_model.cpp']\n",
      "executing genn binary on GPU ...\n",
      "simulation time: 253.75258803367615\n"
     ]
    }
   ],
   "source": [
    "pre_computed_weights_folder = \"../model/weights_phase12\"\n",
    "\n",
    "# for light_g_max in [0.9, 0.75, 0.6, 0.45, 0.3, 0.15, 0]:\n",
    "#     for cone_population in [100, 80, 60, 40, 20]:\n",
    "for light_g_max in [0.9]:\n",
    "    for cone_population in [100]:\n",
    "        for light_intensity in [1, 0.75, 0.5, 0.25, 0]:\n",
    "        \n",
    "            sp_txt = \"../model/parameter/cottaris_original_2hz.txt\"\n",
    "            sp = SimulationParam(sp_txt)\n",
    "\n",
    "            sp.xy_coord_folder = \"../model/layout_phase12/dendritic-tree-coordinate-{}\".format(cone_population)\n",
    "            sp.z_coord_folder = \"../model/layout_phase12/z-coordinate-{}\".format(cone_population)\n",
    "\n",
    "            cr_coordinates = np.load(\"{}/CR.npy\".format(sp.xy_coord_folder))\n",
    "            NUM_CR = cr_coordinates.shape[1]\n",
    "            \n",
    "            background_light = np.tile(np.ones((NUM_CR)) * 0.5, (500, 1))\n",
    "            part = np.ones((NUM_CR)) * light_intensity\n",
    "            part = np.tile(part, (2000, 1))                \n",
    "            square_waves = [background_light, part]\n",
    "            stim = TimedArray(np.concatenate(square_waves, axis=0), dt=1*ms)\n",
    "\n",
    "            time_in_ms = stim.values.shape[0]\n",
    "            print(\"retina sim total time:\", time_in_ms)\n",
    "            select_GPU = 1\n",
    "            genn_directory = \"GeNNworkspace_{}\".format(select_GPU)\n",
    "            _, _, _, _, _, _, _, _, _, spikes_gl_on, spikes_gl_off = stim_to_retina_output(time_in_ms, sp, light_g_max, pre_computed_weights_folder, lstim=stim, select_GPU=select_GPU, genn_directory=genn_directory, dt=0.1)\n",
    "\n",
    "            data_folder = \"../data/fig_heatmap_new/data-{}-{}-{}\".format(light_g_max, cone_population, light_intensity)\n",
    "            if not os.path.exists(data_folder):\n",
    "                os.makedirs(data_folder)\n",
    "\n",
    "            with open('{}/spikes_gl_on.pickle'.format(data_folder), 'wb') as f:\n",
    "                pickle.dump(spikes_gl_on, f)\n",
    "\n",
    "            with open('{}/spikes_gl_off.pickle'.format(data_folder), 'wb') as f:\n",
    "                pickle.dump(spikes_gl_off, f)"
   ]
  },
  {
   "cell_type": "code",
   "execution_count": 3,
   "metadata": {},
   "outputs": [
    {
     "name": "stdout",
     "output_type": "stream",
     "text": [
      "retina sim total time: 2500\n",
      "running brian code generation ...\n",
      "building genn executable ...\n",
      "['/home/aiwenxu/genn/bin/genn-buildmodel.sh', '-i', '/home/aiwenxu/2022-xu-retinal-degeneration/figures:/home/aiwenxu/2022-xu-retinal-degeneration/figures/GeNNworkspace_1:/home/aiwenxu/2022-xu-retinal-degeneration/figures/GeNNworkspace_1/brianlib/randomkit', 'magicnetwork_model.cpp']\n",
      "executing genn binary on GPU ...\n",
      "simulation time: 123.13363122940063\n",
      "retina sim total time: 2500\n",
      "running brian code generation ...\n",
      "building genn executable ...\n",
      "['/home/aiwenxu/genn/bin/genn-buildmodel.sh', '-i', '/home/aiwenxu/2022-xu-retinal-degeneration/figures:/home/aiwenxu/2022-xu-retinal-degeneration/figures/GeNNworkspace_1:/home/aiwenxu/2022-xu-retinal-degeneration/figures/GeNNworkspace_1/brianlib/randomkit', 'magicnetwork_model.cpp']\n",
      "executing genn binary on GPU ...\n",
      "simulation time: 120.50594067573547\n",
      "retina sim total time: 2500\n",
      "running brian code generation ...\n",
      "building genn executable ...\n",
      "['/home/aiwenxu/genn/bin/genn-buildmodel.sh', '-i', '/home/aiwenxu/2022-xu-retinal-degeneration/figures:/home/aiwenxu/2022-xu-retinal-degeneration/figures/GeNNworkspace_1:/home/aiwenxu/2022-xu-retinal-degeneration/figures/GeNNworkspace_1/brianlib/randomkit', 'magicnetwork_model.cpp']\n",
      "executing genn binary on GPU ...\n",
      "simulation time: 121.90152311325073\n",
      "retina sim total time: 2500\n",
      "running brian code generation ...\n",
      "building genn executable ...\n",
      "['/home/aiwenxu/genn/bin/genn-buildmodel.sh', '-i', '/home/aiwenxu/2022-xu-retinal-degeneration/figures:/home/aiwenxu/2022-xu-retinal-degeneration/figures/GeNNworkspace_1:/home/aiwenxu/2022-xu-retinal-degeneration/figures/GeNNworkspace_1/brianlib/randomkit', 'magicnetwork_model.cpp']\n",
      "executing genn binary on GPU ...\n",
      "simulation time: 120.21920824050903\n",
      "retina sim total time: 2500\n",
      "running brian code generation ...\n",
      "building genn executable ...\n",
      "['/home/aiwenxu/genn/bin/genn-buildmodel.sh', '-i', '/home/aiwenxu/2022-xu-retinal-degeneration/figures:/home/aiwenxu/2022-xu-retinal-degeneration/figures/GeNNworkspace_1:/home/aiwenxu/2022-xu-retinal-degeneration/figures/GeNNworkspace_1/brianlib/randomkit', 'magicnetwork_model.cpp']\n",
      "executing genn binary on GPU ...\n",
      "simulation time: 121.43775415420532\n",
      "retina sim total time: 2500\n",
      "running brian code generation ...\n",
      "building genn executable ...\n",
      "['/home/aiwenxu/genn/bin/genn-buildmodel.sh', '-i', '/home/aiwenxu/2022-xu-retinal-degeneration/figures:/home/aiwenxu/2022-xu-retinal-degeneration/figures/GeNNworkspace_1:/home/aiwenxu/2022-xu-retinal-degeneration/figures/GeNNworkspace_1/brianlib/randomkit', 'magicnetwork_model.cpp']\n",
      "executing genn binary on GPU ...\n",
      "simulation time: 121.45498991012573\n",
      "retina sim total time: 2500\n",
      "running brian code generation ...\n",
      "building genn executable ...\n",
      "['/home/aiwenxu/genn/bin/genn-buildmodel.sh', '-i', '/home/aiwenxu/2022-xu-retinal-degeneration/figures:/home/aiwenxu/2022-xu-retinal-degeneration/figures/GeNNworkspace_1:/home/aiwenxu/2022-xu-retinal-degeneration/figures/GeNNworkspace_1/brianlib/randomkit', 'magicnetwork_model.cpp']\n",
      "executing genn binary on GPU ...\n",
      "simulation time: 120.49382710456848\n",
      "retina sim total time: 2500\n",
      "running brian code generation ...\n",
      "building genn executable ...\n",
      "['/home/aiwenxu/genn/bin/genn-buildmodel.sh', '-i', '/home/aiwenxu/2022-xu-retinal-degeneration/figures:/home/aiwenxu/2022-xu-retinal-degeneration/figures/GeNNworkspace_1:/home/aiwenxu/2022-xu-retinal-degeneration/figures/GeNNworkspace_1/brianlib/randomkit', 'magicnetwork_model.cpp']\n",
      "executing genn binary on GPU ...\n",
      "simulation time: 121.20868611335754\n",
      "retina sim total time: 2500\n",
      "running brian code generation ...\n",
      "building genn executable ...\n",
      "['/home/aiwenxu/genn/bin/genn-buildmodel.sh', '-i', '/home/aiwenxu/2022-xu-retinal-degeneration/figures:/home/aiwenxu/2022-xu-retinal-degeneration/figures/GeNNworkspace_1:/home/aiwenxu/2022-xu-retinal-degeneration/figures/GeNNworkspace_1/brianlib/randomkit', 'magicnetwork_model.cpp']\n",
      "executing genn binary on GPU ...\n",
      "simulation time: 120.46304702758789\n",
      "retina sim total time: 2500\n",
      "running brian code generation ...\n",
      "building genn executable ...\n",
      "['/home/aiwenxu/genn/bin/genn-buildmodel.sh', '-i', '/home/aiwenxu/2022-xu-retinal-degeneration/figures:/home/aiwenxu/2022-xu-retinal-degeneration/figures/GeNNworkspace_1:/home/aiwenxu/2022-xu-retinal-degeneration/figures/GeNNworkspace_1/brianlib/randomkit', 'magicnetwork_model.cpp']\n",
      "executing genn binary on GPU ...\n",
      "simulation time: 121.30673599243164\n",
      "retina sim total time: 2500\n",
      "running brian code generation ...\n",
      "building genn executable ...\n",
      "['/home/aiwenxu/genn/bin/genn-buildmodel.sh', '-i', '/home/aiwenxu/2022-xu-retinal-degeneration/figures:/home/aiwenxu/2022-xu-retinal-degeneration/figures/GeNNworkspace_1:/home/aiwenxu/2022-xu-retinal-degeneration/figures/GeNNworkspace_1/brianlib/randomkit', 'magicnetwork_model.cpp']\n",
      "executing genn binary on GPU ...\n",
      "simulation time: 120.55952525138855\n",
      "retina sim total time: 2500\n",
      "running brian code generation ...\n",
      "building genn executable ...\n",
      "['/home/aiwenxu/genn/bin/genn-buildmodel.sh', '-i', '/home/aiwenxu/2022-xu-retinal-degeneration/figures:/home/aiwenxu/2022-xu-retinal-degeneration/figures/GeNNworkspace_1:/home/aiwenxu/2022-xu-retinal-degeneration/figures/GeNNworkspace_1/brianlib/randomkit', 'magicnetwork_model.cpp']\n",
      "executing genn binary on GPU ...\n",
      "simulation time: 120.9306104183197\n",
      "retina sim total time: 2500\n",
      "running brian code generation ...\n",
      "building genn executable ...\n",
      "['/home/aiwenxu/genn/bin/genn-buildmodel.sh', '-i', '/home/aiwenxu/2022-xu-retinal-degeneration/figures:/home/aiwenxu/2022-xu-retinal-degeneration/figures/GeNNworkspace_1:/home/aiwenxu/2022-xu-retinal-degeneration/figures/GeNNworkspace_1/brianlib/randomkit', 'magicnetwork_model.cpp']\n",
      "executing genn binary on GPU ...\n",
      "simulation time: 120.46058940887451\n",
      "retina sim total time: 2500\n",
      "running brian code generation ...\n",
      "building genn executable ...\n",
      "['/home/aiwenxu/genn/bin/genn-buildmodel.sh', '-i', '/home/aiwenxu/2022-xu-retinal-degeneration/figures:/home/aiwenxu/2022-xu-retinal-degeneration/figures/GeNNworkspace_1:/home/aiwenxu/2022-xu-retinal-degeneration/figures/GeNNworkspace_1/brianlib/randomkit', 'magicnetwork_model.cpp']\n",
      "executing genn binary on GPU ...\n",
      "simulation time: 121.22088861465454\n",
      "retina sim total time: 2500\n",
      "running brian code generation ...\n",
      "building genn executable ...\n",
      "['/home/aiwenxu/genn/bin/genn-buildmodel.sh', '-i', '/home/aiwenxu/2022-xu-retinal-degeneration/figures:/home/aiwenxu/2022-xu-retinal-degeneration/figures/GeNNworkspace_1:/home/aiwenxu/2022-xu-retinal-degeneration/figures/GeNNworkspace_1/brianlib/randomkit', 'magicnetwork_model.cpp']\n",
      "executing genn binary on GPU ...\n",
      "simulation time: 120.59031558036804\n",
      "retina sim total time: 2500\n",
      "running brian code generation ...\n",
      "building genn executable ...\n",
      "['/home/aiwenxu/genn/bin/genn-buildmodel.sh', '-i', '/home/aiwenxu/2022-xu-retinal-degeneration/figures:/home/aiwenxu/2022-xu-retinal-degeneration/figures/GeNNworkspace_1:/home/aiwenxu/2022-xu-retinal-degeneration/figures/GeNNworkspace_1/brianlib/randomkit', 'magicnetwork_model.cpp']\n",
      "executing genn binary on GPU ...\n",
      "simulation time: 120.22246098518372\n",
      "retina sim total time: 2500\n",
      "running brian code generation ...\n",
      "building genn executable ...\n",
      "['/home/aiwenxu/genn/bin/genn-buildmodel.sh', '-i', '/home/aiwenxu/2022-xu-retinal-degeneration/figures:/home/aiwenxu/2022-xu-retinal-degeneration/figures/GeNNworkspace_1:/home/aiwenxu/2022-xu-retinal-degeneration/figures/GeNNworkspace_1/brianlib/randomkit', 'magicnetwork_model.cpp']\n",
      "executing genn binary on GPU ...\n",
      "simulation time: 120.88913178443909\n",
      "retina sim total time: 2500\n",
      "running brian code generation ...\n",
      "building genn executable ...\n",
      "['/home/aiwenxu/genn/bin/genn-buildmodel.sh', '-i', '/home/aiwenxu/2022-xu-retinal-degeneration/figures:/home/aiwenxu/2022-xu-retinal-degeneration/figures/GeNNworkspace_1:/home/aiwenxu/2022-xu-retinal-degeneration/figures/GeNNworkspace_1/brianlib/randomkit', 'magicnetwork_model.cpp']\n",
      "executing genn binary on GPU ...\n",
      "simulation time: 121.47515225410461\n",
      "retina sim total time: 2500\n",
      "running brian code generation ...\n",
      "building genn executable ...\n",
      "['/home/aiwenxu/genn/bin/genn-buildmodel.sh', '-i', '/home/aiwenxu/2022-xu-retinal-degeneration/figures:/home/aiwenxu/2022-xu-retinal-degeneration/figures/GeNNworkspace_1:/home/aiwenxu/2022-xu-retinal-degeneration/figures/GeNNworkspace_1/brianlib/randomkit', 'magicnetwork_model.cpp']\n"
     ]
    },
    {
     "name": "stdout",
     "output_type": "stream",
     "text": [
      "executing genn binary on GPU ...\n",
      "simulation time: 121.52660727500916\n",
      "retina sim total time: 2500\n",
      "running brian code generation ...\n",
      "building genn executable ...\n",
      "['/home/aiwenxu/genn/bin/genn-buildmodel.sh', '-i', '/home/aiwenxu/2022-xu-retinal-degeneration/figures:/home/aiwenxu/2022-xu-retinal-degeneration/figures/GeNNworkspace_1:/home/aiwenxu/2022-xu-retinal-degeneration/figures/GeNNworkspace_1/brianlib/randomkit', 'magicnetwork_model.cpp']\n",
      "executing genn binary on GPU ...\n",
      "simulation time: 120.93157696723938\n",
      "retina sim total time: 2500\n",
      "running brian code generation ...\n",
      "building genn executable ...\n",
      "['/home/aiwenxu/genn/bin/genn-buildmodel.sh', '-i', '/home/aiwenxu/2022-xu-retinal-degeneration/figures:/home/aiwenxu/2022-xu-retinal-degeneration/figures/GeNNworkspace_1:/home/aiwenxu/2022-xu-retinal-degeneration/figures/GeNNworkspace_1/brianlib/randomkit', 'magicnetwork_model.cpp']\n",
      "executing genn binary on GPU ...\n",
      "simulation time: 120.54215717315674\n",
      "retina sim total time: 2500\n",
      "running brian code generation ...\n",
      "building genn executable ...\n",
      "['/home/aiwenxu/genn/bin/genn-buildmodel.sh', '-i', '/home/aiwenxu/2022-xu-retinal-degeneration/figures:/home/aiwenxu/2022-xu-retinal-degeneration/figures/GeNNworkspace_1:/home/aiwenxu/2022-xu-retinal-degeneration/figures/GeNNworkspace_1/brianlib/randomkit', 'magicnetwork_model.cpp']\n",
      "executing genn binary on GPU ...\n",
      "simulation time: 120.55291938781738\n",
      "retina sim total time: 2500\n",
      "running brian code generation ...\n",
      "building genn executable ...\n",
      "['/home/aiwenxu/genn/bin/genn-buildmodel.sh', '-i', '/home/aiwenxu/2022-xu-retinal-degeneration/figures:/home/aiwenxu/2022-xu-retinal-degeneration/figures/GeNNworkspace_1:/home/aiwenxu/2022-xu-retinal-degeneration/figures/GeNNworkspace_1/brianlib/randomkit', 'magicnetwork_model.cpp']\n",
      "executing genn binary on GPU ...\n",
      "simulation time: 120.19105744361877\n",
      "retina sim total time: 2500\n",
      "running brian code generation ...\n",
      "building genn executable ...\n",
      "['/home/aiwenxu/genn/bin/genn-buildmodel.sh', '-i', '/home/aiwenxu/2022-xu-retinal-degeneration/figures:/home/aiwenxu/2022-xu-retinal-degeneration/figures/GeNNworkspace_1:/home/aiwenxu/2022-xu-retinal-degeneration/figures/GeNNworkspace_1/brianlib/randomkit', 'magicnetwork_model.cpp']\n",
      "executing genn binary on GPU ...\n",
      "simulation time: 120.2127902507782\n",
      "retina sim total time: 2500\n",
      "running brian code generation ...\n",
      "building genn executable ...\n",
      "['/home/aiwenxu/genn/bin/genn-buildmodel.sh', '-i', '/home/aiwenxu/2022-xu-retinal-degeneration/figures:/home/aiwenxu/2022-xu-retinal-degeneration/figures/GeNNworkspace_1:/home/aiwenxu/2022-xu-retinal-degeneration/figures/GeNNworkspace_1/brianlib/randomkit', 'magicnetwork_model.cpp']\n",
      "executing genn binary on GPU ...\n",
      "simulation time: 120.16794180870056\n",
      "retina sim total time: 2500\n",
      "running brian code generation ...\n",
      "building genn executable ...\n",
      "['/home/aiwenxu/genn/bin/genn-buildmodel.sh', '-i', '/home/aiwenxu/2022-xu-retinal-degeneration/figures:/home/aiwenxu/2022-xu-retinal-degeneration/figures/GeNNworkspace_1:/home/aiwenxu/2022-xu-retinal-degeneration/figures/GeNNworkspace_1/brianlib/randomkit', 'magicnetwork_model.cpp']\n",
      "executing genn binary on GPU ...\n",
      "simulation time: 120.9363272190094\n",
      "retina sim total time: 2500\n",
      "running brian code generation ...\n",
      "building genn executable ...\n",
      "['/home/aiwenxu/genn/bin/genn-buildmodel.sh', '-i', '/home/aiwenxu/2022-xu-retinal-degeneration/figures:/home/aiwenxu/2022-xu-retinal-degeneration/figures/GeNNworkspace_1:/home/aiwenxu/2022-xu-retinal-degeneration/figures/GeNNworkspace_1/brianlib/randomkit', 'magicnetwork_model.cpp']\n",
      "executing genn binary on GPU ...\n",
      "simulation time: 120.17363715171814\n",
      "retina sim total time: 2500\n",
      "running brian code generation ...\n",
      "building genn executable ...\n",
      "['/home/aiwenxu/genn/bin/genn-buildmodel.sh', '-i', '/home/aiwenxu/2022-xu-retinal-degeneration/figures:/home/aiwenxu/2022-xu-retinal-degeneration/figures/GeNNworkspace_1:/home/aiwenxu/2022-xu-retinal-degeneration/figures/GeNNworkspace_1/brianlib/randomkit', 'magicnetwork_model.cpp']\n",
      "executing genn binary on GPU ...\n",
      "simulation time: 120.99548077583313\n",
      "retina sim total time: 2500\n",
      "running brian code generation ...\n",
      "building genn executable ...\n",
      "['/home/aiwenxu/genn/bin/genn-buildmodel.sh', '-i', '/home/aiwenxu/2022-xu-retinal-degeneration/figures:/home/aiwenxu/2022-xu-retinal-degeneration/figures/GeNNworkspace_1:/home/aiwenxu/2022-xu-retinal-degeneration/figures/GeNNworkspace_1/brianlib/randomkit', 'magicnetwork_model.cpp']\n",
      "executing genn binary on GPU ...\n",
      "simulation time: 120.57635760307312\n",
      "retina sim total time: 2500\n",
      "running brian code generation ...\n",
      "building genn executable ...\n",
      "['/home/aiwenxu/genn/bin/genn-buildmodel.sh', '-i', '/home/aiwenxu/2022-xu-retinal-degeneration/figures:/home/aiwenxu/2022-xu-retinal-degeneration/figures/GeNNworkspace_1:/home/aiwenxu/2022-xu-retinal-degeneration/figures/GeNNworkspace_1/brianlib/randomkit', 'magicnetwork_model.cpp']\n",
      "executing genn binary on GPU ...\n",
      "simulation time: 121.67699003219604\n",
      "retina sim total time: 2500\n",
      "running brian code generation ...\n",
      "building genn executable ...\n",
      "['/home/aiwenxu/genn/bin/genn-buildmodel.sh', '-i', '/home/aiwenxu/2022-xu-retinal-degeneration/figures:/home/aiwenxu/2022-xu-retinal-degeneration/figures/GeNNworkspace_1:/home/aiwenxu/2022-xu-retinal-degeneration/figures/GeNNworkspace_1/brianlib/randomkit', 'magicnetwork_model.cpp']\n",
      "executing genn binary on GPU ...\n",
      "simulation time: 120.64538550376892\n",
      "retina sim total time: 2500\n",
      "running brian code generation ...\n",
      "building genn executable ...\n",
      "['/home/aiwenxu/genn/bin/genn-buildmodel.sh', '-i', '/home/aiwenxu/2022-xu-retinal-degeneration/figures:/home/aiwenxu/2022-xu-retinal-degeneration/figures/GeNNworkspace_1:/home/aiwenxu/2022-xu-retinal-degeneration/figures/GeNNworkspace_1/brianlib/randomkit', 'magicnetwork_model.cpp']\n",
      "executing genn binary on GPU ...\n",
      "simulation time: 120.53313946723938\n",
      "retina sim total time: 2500\n",
      "running brian code generation ...\n",
      "building genn executable ...\n",
      "['/home/aiwenxu/genn/bin/genn-buildmodel.sh', '-i', '/home/aiwenxu/2022-xu-retinal-degeneration/figures:/home/aiwenxu/2022-xu-retinal-degeneration/figures/GeNNworkspace_1:/home/aiwenxu/2022-xu-retinal-degeneration/figures/GeNNworkspace_1/brianlib/randomkit', 'magicnetwork_model.cpp']\n",
      "executing genn binary on GPU ...\n",
      "simulation time: 120.45759344100952\n",
      "retina sim total time: 2500\n",
      "running brian code generation ...\n",
      "building genn executable ...\n",
      "['/home/aiwenxu/genn/bin/genn-buildmodel.sh', '-i', '/home/aiwenxu/2022-xu-retinal-degeneration/figures:/home/aiwenxu/2022-xu-retinal-degeneration/figures/GeNNworkspace_1:/home/aiwenxu/2022-xu-retinal-degeneration/figures/GeNNworkspace_1/brianlib/randomkit', 'magicnetwork_model.cpp']\n",
      "executing genn binary on GPU ...\n",
      "simulation time: 120.91116237640381\n",
      "retina sim total time: 2500\n",
      "running brian code generation ...\n",
      "building genn executable ...\n",
      "['/home/aiwenxu/genn/bin/genn-buildmodel.sh', '-i', '/home/aiwenxu/2022-xu-retinal-degeneration/figures:/home/aiwenxu/2022-xu-retinal-degeneration/figures/GeNNworkspace_1:/home/aiwenxu/2022-xu-retinal-degeneration/figures/GeNNworkspace_1/brianlib/randomkit', 'magicnetwork_model.cpp']\n",
      "executing genn binary on GPU ...\n",
      "simulation time: 120.25786280632019\n"
     ]
    }
   ],
   "source": [
    "# special case: cone population 0%\n",
    "\n",
    "pre_computed_weights_folder = \"../model/weights_phase12\"\n",
    "\n",
    "cone_population = 0\n",
    "for light_g_max in [0.9, 0.75, 0.6, 0.45, 0.3, 0.15, 0]:\n",
    "    for light_intensity in [1, 0.75, 0.5, 0.25, 0]:\n",
    "        \n",
    "        sp_txt = \"../model/parameter/cottaris_original_2hz.txt\"\n",
    "        sp = SimulationParam(sp_txt)\n",
    "\n",
    "        sp.xy_coord_folder = \"../model/layout_phase12/dendritic-tree-coordinate-{}\".format(100)\n",
    "        sp.z_coord_folder = \"../model/layout_phase12/z-coordinate-{}\".format(100)\n",
    "        sp.cone_exists = False\n",
    "\n",
    "        NUM_CR = 1\n",
    "\n",
    "        background_light = np.tile(np.ones((NUM_CR)) * 0.5, (500, 1))\n",
    "        part = np.ones((NUM_CR)) * light_intensity\n",
    "        part = np.tile(part, (2000, 1))                \n",
    "        square_waves = [background_light, part]\n",
    "        stim = TimedArray(np.concatenate(square_waves, axis=0), dt=1*ms)\n",
    "\n",
    "        time_in_ms = stim.values.shape[0]\n",
    "        print(\"retina sim total time:\", time_in_ms)\n",
    "        select_GPU = 1\n",
    "        genn_directory = \"GeNNworkspace_{}\".format(select_GPU)\n",
    "        _, _, _, _, _, _, _, _, _, spikes_gl_on, spikes_gl_off = stim_to_retina_output(time_in_ms, sp, light_g_max, pre_computed_weights_folder, lstim=stim, select_GPU=select_GPU, genn_directory=genn_directory, dt=0.1)\n",
    "\n",
    "        data_folder = \"../data/fig_heatmap_new/data-{}-{}-{}\".format(light_g_max, cone_population, light_intensity)\n",
    "        if not os.path.exists(data_folder):\n",
    "            os.makedirs(data_folder)\n",
    "\n",
    "        with open('{}/spikes_gl_on.pickle'.format(data_folder), 'wb') as f:\n",
    "            pickle.dump(spikes_gl_on, f)\n",
    "\n",
    "        with open('{}/spikes_gl_off.pickle'.format(data_folder), 'wb') as f:\n",
    "            pickle.dump(spikes_gl_off, f)"
   ]
  },
  {
   "cell_type": "markdown",
   "metadata": {},
   "source": [
    "**Part 2: calculate firing rate**"
   ]
  },
  {
   "cell_type": "code",
   "execution_count": 4,
   "metadata": {},
   "outputs": [],
   "source": [
    "def cal_firing_rate(path_to_spikes):\n",
    "    \n",
    "    with open(path_to_spikes, 'rb') as f:\n",
    "        spikes = pickle.load(f)\n",
    "    \n",
    "    data = np.zeros((len(spikes['t'].keys())))\n",
    "    for idx in spikes['t']:\n",
    "        sp = spikes['t'][idx] / ms\n",
    "        sp = sp[sp > 500]\n",
    "        data[idx] += sp.shape[0]/2\n",
    "    return data"
   ]
  },
  {
   "cell_type": "code",
   "execution_count": 5,
   "metadata": {},
   "outputs": [],
   "source": [
    "def save_firing_rate(cell_type):\n",
    "    fr_dict = {}\n",
    "    for light_g in [0.9, 0.75, 0.6, 0.45, 0.3, 0.15, 0]:\n",
    "        for cone_percent in [0, 20, 40, 60, 80, 100]:\n",
    "            for light_intensity in [1, 0.75, 0.5, 0.25, 0]:\n",
    "                current_key = \"{}_{}_{}\".format(light_g, cone_percent, light_intensity)\n",
    "                current_folder = \"../data/fig_heatmap_new/data-{}-{}-{}\".format(light_g, cone_percent, light_intensity)\n",
    "                current_path = \"{}/spikes_gl_{}.pickle\".format(current_folder, cell_type)\n",
    "                fr_dict[current_key] = cal_firing_rate(current_path)\n",
    "    with open(\"../data/fig_heatmap_new/{}_rgc_fr.pickle\".format(cell_type), 'wb') as f:\n",
    "        pickle.dump(fr_dict, f)"
   ]
  },
  {
   "cell_type": "code",
   "execution_count": 6,
   "metadata": {},
   "outputs": [],
   "source": [
    "save_firing_rate(\"on\")"
   ]
  },
  {
   "cell_type": "code",
   "execution_count": 7,
   "metadata": {},
   "outputs": [],
   "source": [
    "save_firing_rate(\"off\")"
   ]
  },
  {
   "cell_type": "markdown",
   "metadata": {},
   "source": [
    "**Part 3: plotting**"
   ]
  },
  {
   "cell_type": "code",
   "execution_count": 8,
   "metadata": {},
   "outputs": [],
   "source": [
    "with open(\"../data/fig_heatmap_new/on_rgc_fr.pickle\", 'rb') as f:\n",
    "    on_fr = pickle.load(f)\n",
    "with open(\"../data/fig_heatmap_new/off_rgc_fr.pickle\", 'rb') as f:\n",
    "    off_fr = pickle.load(f)"
   ]
  },
  {
   "cell_type": "code",
   "execution_count": 9,
   "metadata": {},
   "outputs": [],
   "source": [
    "def get_heatmap(fr_dict):\n",
    "    heatmap = []\n",
    "    for light_intensity in [0, 0.25, 0.5, 0.75, 1]:\n",
    "        current = np.zeros((7, 6))\n",
    "        for (j, light_g) in enumerate(reversed([0, 0.15, 0.3, 0.45, 0.6, 0.75, 0.9])):\n",
    "            for (k, cone_percent) in enumerate(reversed([0, 20, 40, 60, 80, 100])):\n",
    "                key = \"{}_{}_{}\".format(light_g, cone_percent, light_intensity)\n",
    "                current[j][k] = np.mean(fr_dict[key], axis=0)\n",
    "        heatmap.append(current)\n",
    "    return heatmap"
   ]
  },
  {
   "cell_type": "code",
   "execution_count": 10,
   "metadata": {},
   "outputs": [],
   "source": [
    "on_off_heatmap = [get_heatmap(on_fr), get_heatmap(off_fr)]"
   ]
  },
  {
   "cell_type": "code",
   "execution_count": 20,
   "metadata": {},
   "outputs": [
    {
     "data": {
      "image/png": "[encoded data removed]",
      "text/plain": [
       "<Figure size 1512x432 with 11 Axes>"
      ]
     },
     "metadata": {
      "needs_background": "light"
     },
     "output_type": "display_data"
    }
   ],
   "source": [
    "fig, axs = plt.subplots(2, 5, figsize=(21,6))\n",
    "fig.text(0.5, 0, 'Cone population (%)', ha='center', fontsize=20)\n",
    "fig.text(0.08, 0.5, 'Light-cone conduction $g_{\\max}$ (nS)', va='center', rotation='vertical', fontsize=20)\n",
    "light_intensity = [0, 0.25, 0.5, 0.75, 1]\n",
    "for i in range(2):\n",
    "    for j in range(5):\n",
    "        im = axs[i][j].imshow(on_off_heatmap[i][j], cmap=\"pink\", vmin=0, vmax=60, origin=\"lower\")\n",
    "        if i == 0:\n",
    "            axs[i][j].set_xticks([])\n",
    "        else:\n",
    "            axs[i][j].set_xticks([0, 1, 2, 3, 4, 5])\n",
    "            axs[i][j].set_xticklabels(reversed([0, 20, 40, 60, 80, 100]), fontsize=10)\n",
    "        if j != 0:\n",
    "            axs[i][j].set_yticks([])\n",
    "        else:\n",
    "            axs[i][j].set_yticks([0, 1, 2, 3, 4, 5, 6])\n",
    "            axs[i][j].set_yticklabels(reversed([0.00, 0.15, 0.30, 0.45, 0.60, 0.75, 0.90]), fontsize=10)\n",
    "        if i == 0:\n",
    "            axs[i][j].set_xlabel(\"Light intensity {} (a.u.)\".format(light_intensity[j]), fontsize=15)\n",
    "            axs[i][j].xaxis.set_label_coords(0.5,1.2)\n",
    "axs[0][4].set_ylabel(\"ON RGCs\", rotation=270, fontsize=15)\n",
    "axs[0][4].yaxis.set_label_coords(1.1,0.5)\n",
    "axs[1][4].set_ylabel(\"OFF RGCs\", rotation=270, fontsize=15)\n",
    "axs[1][4].yaxis.set_label_coords(1.1,0.5)\n",
    "fig.subplots_adjust(right=0.8)\n",
    "cbar_ax = fig.add_axes([0.82, 0.15, 0.03, 0.7])\n",
    "cbar = fig.colorbar(im, cax=cbar_ax)\n",
    "cbar_ax.set_ylabel('Firing rate (Hz)', rotation=270, labelpad=18, fontsize=15)\n",
    "_ = cbar_ax.set_yticklabels([0, 10, 20, 30, 40, 50, 60, 70, 80], fontsize=15)\n",
    "plt.savefig(\"new_plots/spon_rate_on_off_heatmap.pdf\")"
   ]
  },
  {
   "cell_type": "code",
   "execution_count": 16,
   "metadata": {},
   "outputs": [],
   "source": [
    "def get_spon_rate_fix_cone_percent(fr_dict, cone_percent):\n",
    "    fr_mean = []\n",
    "    fr_std = []\n",
    "    for g_max in reversed([0, 0.15, 0.3, 0.45, 0.6, 0.75, 0.9]):\n",
    "        key = \"{}_{}_0.5\".format(g_max, cone_percent)\n",
    "        rate = fr_dict[key]\n",
    "        fr_mean.append(np.mean(rate))\n",
    "        fr_std.append(np.std(rate))\n",
    "    return np.array(fr_mean), np.array(fr_std)\n",
    "on_fr_mean, on_fr_std = get_spon_rate_fix_cone_percent(on_fr, 100)\n",
    "off_fr_mean, off_fr_std = get_spon_rate_fix_cone_percent(off_fr, 100)"
   ]
  },
  {
   "cell_type": "code",
   "execution_count": 17,
   "metadata": {},
   "outputs": [
    {
     "data": {
      "image/png": "[encoded data removed]",
      "text/plain": [
       "<Figure size 720x432 with 1 Axes>"
      ]
     },
     "metadata": {
      "needs_background": "light"
     },
     "output_type": "display_data"
    }
   ],
   "source": [
    "fig, ax = plt.subplots(1,1, figsize=(10,6))\n",
    "\n",
    "gmax = list(reversed([\"0\", \"0.15\", \"0.3\", \"0.45\", \"0.6\", \"0.75\", \"0.9\"]))\n",
    "\n",
    "ax.errorbar(gmax, on_fr_mean, yerr=on_fr_std, label=\"ON RGCs\")\n",
    "ax.errorbar(gmax, off_fr_mean, yerr=off_fr_std, label=\"OFF RGCs\")\n",
    "ax.set_ylim((-5,65))\n",
    "ax.set_ylabel(\"firing rate (Hz)\", fontsize=18)\n",
    "ax.set_xlabel(\"$g_{\\max}$ (nS)\", fontsize=18)\n",
    "ax.set_title(\"cone population = 100%\", fontsize=18)\n",
    "ax.legend(loc=\"upper left\")\n",
    "plt.savefig(\"new_plots/spon_rate_cone_100_varying_g_max.pdf\")"
   ]
  },
  {
   "cell_type": "code",
   "execution_count": 18,
   "metadata": {},
   "outputs": [],
   "source": [
    "def get_spon_rate_fix_g_max(fr_dict, g_max):\n",
    "    fr_mean = []\n",
    "    fr_std = []\n",
    "    for cone_percent in reversed([0, 20, 40, 60, 80, 100]):\n",
    "        key = \"{}_{}_0.5\".format(g_max, cone_percent)\n",
    "        rate = fr_dict[key]\n",
    "        fr_mean.append(np.mean(rate))\n",
    "        fr_std.append(np.std(rate))\n",
    "    return np.array(fr_mean), np.array(fr_std)\n",
    "on_fr_mean, on_fr_std = get_spon_rate_fix_g_max(on_fr, 0.9)\n",
    "off_fr_mean, off_fr_std = get_spon_rate_fix_g_max(off_fr, 0.9)"
   ]
  },
  {
   "cell_type": "code",
   "execution_count": 19,
   "metadata": {},
   "outputs": [
    {
     "data": {
      "image/png": "[encoded data removed]",
      "text/plain": [
       "<Figure size 720x432 with 1 Axes>"
      ]
     },
     "metadata": {
      "needs_background": "light"
     },
     "output_type": "display_data"
    }
   ],
   "source": [
    "fig, ax = plt.subplots(1,1, figsize=(10,6))\n",
    "\n",
    "cone_population = list(reversed([\"0\", \"20\", \"40\", \"60\", \"80\", \"100\"]))\n",
    "\n",
    "ax.errorbar(cone_population, on_fr_mean, yerr=on_fr_mean, label=\"ON RGCs\")\n",
    "ax.errorbar(cone_population, off_fr_mean, yerr=off_fr_std, label=\"OFF RGCs\")\n",
    "ax.set_ylim((-2.5,25))\n",
    "ax.set_ylabel(\"firing rate (Hz)\", fontsize=18)\n",
    "ax.set_xlabel(\"cone population (%)\", fontsize=18)\n",
    "ax.set_title(\"$g_{\\max}$ = 0.9 nS\", fontsize=18)\n",
    "ax.legend()\n",
    "plt.savefig(\"new_plots/spon_rate_g_max_09_varying_cone.pdf\")"
   ]
  },
  {
   "cell_type": "code",
   "execution_count": null,
   "metadata": {},
   "outputs": [],
   "source": []
  }
 ],
 "metadata": {
  "kernelspec": {
   "display_name": "retinamodel",
   "language": "python",
   "name": "retinamodel"
  },
  "language_info": {
   "codemirror_mode": {
    "name": "ipython",
    "version": 3
   },
   "file_extension": ".py",
   "mimetype": "text/x-python",
   "name": "python",
   "nbconvert_exporter": "python",
   "pygments_lexer": "ipython3",
   "version": "3.7.6"
  }
 },
 "nbformat": 4,
 "nbformat_minor": 4
}
